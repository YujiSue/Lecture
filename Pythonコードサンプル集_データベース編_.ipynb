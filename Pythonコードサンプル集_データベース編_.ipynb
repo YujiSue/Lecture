{
  "nbformat": 4,
  "nbformat_minor": 0,
  "metadata": {
    "colab": {
      "name": "Pythonコードサンプル集 - データベース編 - .ipynb",
      "provenance": [],
      "collapsed_sections": [],
      "include_colab_link": true
    },
    "kernelspec": {
      "name": "python3",
      "display_name": "Python 3"
    }
  },
  "cells": [
    {
      "cell_type": "markdown",
      "metadata": {
        "id": "view-in-github",
        "colab_type": "text"
      },
      "source": [
        "<a href=\"https://colab.research.google.com/github/YujiSue/Lecture/blob/master/Python%E3%82%B3%E3%83%BC%E3%83%89%E3%82%B5%E3%83%B3%E3%83%97%E3%83%AB%E9%9B%86_%E3%83%87%E3%83%BC%E3%82%BF%E3%83%99%E3%83%BC%E3%82%B9%E7%B7%A8_.ipynb\" target=\"_parent\"><img src=\"https://colab.research.google.com/assets/colab-badge.svg\" alt=\"Open In Colab\"/></a>"
      ]
    },
    {
      "cell_type": "markdown",
      "source": [
        "# リレーショナルデータベース(SQL型)の基本\n",
        "\n",
        "## 0. [データベースの作成](#01)\n",
        "## 1. [作成したデータベースを開く](#02)\n",
        "## 2. [テーブルを作成](#03)\n",
        "## 3. [テーブルにレコードを挿入](#04)\n",
        "## 4. [テーブルからレコードを抽出](#05)\n",
        "## 5. [レコードを編集する](#06)\n",
        "## 6. [データベースを閉じる](#07)\n",
        "## Ex 1. [pandasデータフレームをデータベース化](#08)\n",
        "## Ex 2. [データベースからpandasデータフレームにデータを読み込む](#09)\n"
      ],
      "metadata": {
        "id": "Jb1vKKDQXcOq"
      }
    },
    {
      "cell_type": "markdown",
      "source": [
        "<a name=\"01\"></a>\n",
        "## 0. データベースを作る"
      ],
      "metadata": {
        "id": "5bgvhPCRlopk"
      }
    },
    {
      "cell_type": "code",
      "source": [
        "#@title データベース名を決めて実行してください\n",
        "import sqlite3\n",
        "データベース名 = 'test.db' #@param {type:'string'}\n",
        "connection = sqlite3.connect(データベース名)\n",
        "connection.close()"
      ],
      "metadata": {
        "id": "Mie4BupUjCJ8",
        "cellView": "form"
      },
      "execution_count": null,
      "outputs": []
    },
    {
      "cell_type": "markdown",
      "source": [
        "<a name=\"02\"></a>\n",
        "## 1. データベースを開く"
      ],
      "metadata": {
        "id": "IEe1snPxzHj_"
      }
    },
    {
      "cell_type": "code",
      "source": [
        "#@title データベース名を指定して実行してください\n",
        "import sqlite3\n",
        "データベース名 = 'test.db' #@param {type:'string'}\n",
        "connection = sqlite3.connect(データベース名)\n",
        "cursor = connection.cursor()"
      ],
      "metadata": {
        "cellView": "form",
        "id": "L9emk0OjzLLH"
      },
      "execution_count": null,
      "outputs": []
    },
    {
      "cell_type": "markdown",
      "source": [
        "<a name=\"03\"></a>\n",
        "## 2. テーブルをつくる"
      ],
      "metadata": {
        "id": "dtST6sbyzU9r"
      }
    },
    {
      "cell_type": "code",
      "source": [
        "#@title テーブルの情報を入力して実行してください\n",
        "テーブル名 = 'table1' #@param {type:'string'}\n",
        "カラム数 = 5 #@param {type:'raw'}\n",
        "#@markdown カラム名をカンマ区切りで入力してください\n",
        "カラム名 = 'id,name,type,score,photo' #@param {type:'string'}\n",
        "#@markdown 各カラムのデータ型をカンマ区切りで入力してください\n",
        "データ型 = 'INTEGER,TEXT,NUMERIC,REAL,BLOB' #@param {type:'string'}\n",
        "#@markdown 各カラムの制約をカンマ区切りで入力してください\n",
        "制約 = \"PRIMARY KEY,UNIQUE,NOT NULL,DEFAULT 0.0,\" #@param {type:'string'}\n",
        "\n",
        "try:\n",
        "  if カラム数 < 1:\n",
        "    print('カラム数は１以上に設定してください')\n",
        "    raise UserWarning('')\n",
        "  column_names = カラム名.split(',')\n",
        "  column_types = データ型.split(',')\n",
        "  column_rules = 制約.split(',')\n",
        "  if len(column_names) != カラム数 or len(column_types) != カラム数 or len(column_rules) != カラム数:\n",
        "    print('カラム数とカラム名、データ型、制約の要素数は一致させてください')\n",
        "    raise UserWarning('')\n",
        "  sql = 'CREATE TABLE IF NOT EXISTS ' + テーブル名 + '('\n",
        "  for (cname, ctype, crule) in zip(column_names, column_types, column_rules):\n",
        "    sql += cname + ' ' + ctype + ' ' + crule + ','\n",
        "  sql = sql[:-1] + ')'\n",
        "  print('SQL query :', sql)\n",
        "  cursor.execute(sql)\n",
        "  connection.commit()\n",
        "  print('Completed.')\n",
        "except:\n",
        "  print('Failed.')\n",
        "  pass"
      ],
      "metadata": {
        "id": "IlrZREfjzVTr",
        "cellView": "form"
      },
      "execution_count": null,
      "outputs": []
    },
    {
      "cell_type": "markdown",
      "source": [
        "<a name=\"04\"></a>\n",
        "## 3. レコードを挿入する"
      ],
      "metadata": {
        "id": "yLhW4E76VWdD"
      }
    },
    {
      "cell_type": "markdown",
      "source": [
        "### １つのレコードを挿入する"
      ],
      "metadata": {
        "id": "7RlQYZbEKp1Z"
      }
    },
    {
      "cell_type": "code",
      "source": [
        "#@title 挿入する情報を入力して実行してください\n",
        "#@markdown 挿入したいターゲットのテーブル名を入力してください\n",
        "テーブル名 = 'table1' #@param {type:'string'}\n",
        "#@markdown 挿入したいターゲットのカラム名をカンマ区切りで入力してください\n",
        "カラム名 = 'name, type, score' #@param {type:'string'}\n",
        "#@markdown 挿入するデータをカンマ区切りで入力してください<br>\n",
        "#@markdown 文字列は半角のシングルクオーテーション(')で囲んでください<br>\n",
        "データ = \"'Item01', 1, 0.5\" #@param {type:'string'}\n",
        "\n",
        "try:\n",
        "  column_names = カラム名.split(',')\n",
        "  values = データ.split(',')\n",
        "  if len(column_names) != len(values):\n",
        "    print('カラム数とデータ数は一致させてください')\n",
        "    raise\n",
        "  if len(column_names) < 1:\n",
        "    print('１列以上データを入力してください')\n",
        "    raise\n",
        "  sql = 'INSERT INTO ' + テーブル名 + '('\n",
        "  for name in column_names:\n",
        "    sql += name + ','\n",
        "  sql = sql[:-1] + ')'\n",
        "  sql += ' VALUES ('\n",
        "  for value in values:\n",
        "    sql += value + ','\n",
        "  sql = sql[:-1] + ')'\n",
        "  print('SQL query :', sql)\n",
        "  cursor.execute(sql)\n",
        "  connection.commit()\n",
        "  print('Completed.')\n",
        "except:\n",
        "  print('Failed.')\n",
        "  pass"
      ],
      "metadata": {
        "id": "ZHTu0bV1VWnx",
        "cellView": "form"
      },
      "execution_count": null,
      "outputs": []
    },
    {
      "cell_type": "markdown",
      "source": [
        "### ２つ以上のレコードを挿入する"
      ],
      "metadata": {
        "id": "dr3IExaGz48z"
      }
    },
    {
      "cell_type": "code",
      "source": [
        "# 各行をタプルにして、複数行分のデータをリスト化したデータセットを準備します\n",
        "dataset = [\n",
        "    ('item02', 1, 0.9),\n",
        "    ('item03', 2, 0.1),\n",
        "    ('item04', 3, 0.25),\n",
        "]"
      ],
      "metadata": {
        "id": "pCmQL3q3z9s-"
      },
      "execution_count": null,
      "outputs": []
    },
    {
      "cell_type": "code",
      "source": [
        "#@title 挿入する情報を入力して実行してください\n",
        "#@markdown 挿入したいターゲットのテーブル名を入力してください\n",
        "テーブル名 = 'table1' #@param {type:'string'}\n",
        "#@markdown 挿入したいターゲットのカラム名をカンマ区切りで入力してください\n",
        "カラム名 = 'name, type, score' #@param {type:'string'}\n",
        "#@markdown 挿入するデータセット名を入力してください<br>\n",
        "データセット = dataset #@param {type:'raw'}\n",
        "\n",
        "try:\n",
        "  column_names = カラム名.split(',')\n",
        "  if len(column_names) < 1:\n",
        "    print('１列以上データを入力してください')\n",
        "    raise\n",
        "  sql = 'INSERT INTO ' + テーブル名 + '('\n",
        "  for name in column_names:\n",
        "    sql += name + ','\n",
        "  sql = sql[:-1] + ')'\n",
        "  sql += ' VALUES ('\n",
        "  for c in range(0, len(column_names)):\n",
        "    sql += '?,'\n",
        "  sql = sql[:-1] + ')'\n",
        "  print('SQL query :', sql)\n",
        "  cursor.executemany(sql, データセット)\n",
        "  connection.commit()\n",
        "  print('Completed.')\n",
        "except:\n",
        "  print('Failed.')\n",
        "  pass"
      ],
      "metadata": {
        "cellView": "form",
        "id": "-rcGlpS3z5G3"
      },
      "execution_count": null,
      "outputs": []
    },
    {
      "cell_type": "markdown",
      "source": [
        "<a name=\"05\"></a>\n",
        "## 4. レコードを閲覧する"
      ],
      "metadata": {
        "id": "t3TaDADSVfgb"
      }
    },
    {
      "cell_type": "markdown",
      "source": [
        "### 1. レコード数をカウントする"
      ],
      "metadata": {
        "id": "eyqz6sQj3HR4"
      }
    },
    {
      "cell_type": "code",
      "source": [
        "#@title 情報を入力して実行してください\n",
        "#@markdown カウントしたいターゲットのテーブル名を入力してください\n",
        "テーブル名 = 'table1' #@param {type:'string'}\n",
        "try:\n",
        "  sql = 'select count(*) from ' + テーブル名\n",
        "  print('SQL query :', sql)\n",
        "  cursor.execute(sql)\n",
        "  print('レコード数：', cursor.fetchone()[0])\n",
        "  print('Completed.')\n",
        "except:\n",
        "  print('Failed.')\n",
        "  pass"
      ],
      "metadata": {
        "id": "CXRDR_veVfo8",
        "cellView": "form"
      },
      "execution_count": null,
      "outputs": []
    },
    {
      "cell_type": "markdown",
      "source": [
        "### 2. レコードを全て確認する"
      ],
      "metadata": {
        "id": "KQa76tNn3OdS"
      }
    },
    {
      "cell_type": "code",
      "source": [
        "#@title 情報を入力して実行してください\n",
        "#@markdown カウントしたいターゲットのテーブル名を入力してください\n",
        "テーブル名 = 'table1' #@param {type:'string'}\n",
        "try:\n",
        "  sql = 'select * from ' + テーブル名\n",
        "  print('SQL query :', sql)\n",
        "  cursor.execute(sql)\n",
        "  rows = cursor.fetchall()\n",
        "  ridx = 1\n",
        "  for row in rows:\n",
        "    print(ridx, '行目：', row)\n",
        "    ridx += 1\n",
        "  print('Completed.')\n",
        "except:\n",
        "  print('Failed.')\n",
        "  pass"
      ],
      "metadata": {
        "cellView": "form",
        "id": "vlYH93om37oK"
      },
      "execution_count": null,
      "outputs": []
    },
    {
      "cell_type": "markdown",
      "source": [
        "### 3. 条件をつけてレコードを検索する\n"
      ],
      "metadata": {
        "id": "wA0woME43WgY"
      }
    },
    {
      "cell_type": "code",
      "source": [
        "#@title 情報を入力して実行してください\n",
        "#@markdown カウントしたいターゲットのテーブル名を入力してください\n",
        "テーブル名 = 'table1' #@param {type:'string'}\n",
        "#@markdown 表示したいカラム名をカンマ区切りで入力してください\n",
        "カラム名 = 'id, name, score' #@param {type:'string'}\n",
        "#@markdown 表示したいレコードの条件を入力してください\n",
        "条件 = 'id < 3' #@param {type:'string'}\n",
        "\n",
        "try:\n",
        "  sql = 'select ' + カラム名 + ' from ' + テーブル名 + ' WHERE ' + 条件\n",
        "  print('SQL query :', sql)\n",
        "  cursor.execute(sql)\n",
        "  rows = cursor.fetchall()\n",
        "  ridx = 1\n",
        "  for row in rows:\n",
        "    print(ridx, '行目：', row)\n",
        "    ridx += 1\n",
        "  print('Completed.')\n",
        "except:\n",
        "  print('Failed.')\n",
        "  pass"
      ],
      "metadata": {
        "cellView": "form",
        "id": "xNJNwS497TVx"
      },
      "execution_count": null,
      "outputs": []
    },
    {
      "cell_type": "markdown",
      "source": [
        "<a name=\"06\"></a>\n",
        "## 5. レコードを編集する"
      ],
      "metadata": {
        "id": "MN-sl_uqVWzA"
      }
    },
    {
      "cell_type": "code",
      "source": [
        "#@title 編集する情報を入力して実行してください\n",
        "#@markdown 編集したいターゲットのテーブル名を入力してください\n",
        "テーブル名 = 'table1' #@param {type:'string'}\n",
        "#@markdown 編集したいターゲットのカラム名をカンマ区切りで入力してください\n",
        "カラム名 = 'name, score' #@param {type:'string'}\n",
        "#@markdown 編集するデータをカンマ区切りで入力してください<br>\n",
        "#@markdown 文字列は半角のシングルクオーテーション(')で囲んでください<br>\n",
        "データ = \"'Item01_v2', 0.75\" #@param {type:'string'}\n",
        "#@markdown 編集したいデータのIDを指定してください<br>\n",
        "編集したいID = 1 #@param {type:'number'}\n",
        "\n",
        "try:\n",
        "  column_names = カラム名.split(',')\n",
        "  values = データ.split(',')\n",
        "  if len(column_names) != len(values):\n",
        "    print('カラム数とデータ数は一致させてください')\n",
        "    raise\n",
        "  if len(column_names) < 1:\n",
        "    print('１列以上データを入力してください')\n",
        "    raise\n",
        "  sql = 'UPDATE ' + テーブル名 + ' SET '\n",
        "  for name in column_names:\n",
        "    sql += name + '=?,'\n",
        "  sql = sql[:-1] + ' '\n",
        "  sql += 'WHERE ID=' + str(編集したいID)\n",
        "  print('SQL query :', sql)\n",
        "  cursor.execute(sql, tuple(values))\n",
        "  connection.commit()\n",
        "  print('> 編集後：')\n",
        "  sql = 'select * from ' + テーブル名\n",
        "  cursor.execute(sql)\n",
        "  rows = cursor.fetchall()\n",
        "  ridx = 1\n",
        "  for row in rows:\n",
        "    print(ridx, '行目：', row)\n",
        "    ridx += 1\n",
        "  print('Completed.')\n",
        "except:\n",
        "  print('Failed.')\n",
        "  pass"
      ],
      "metadata": {
        "id": "iOFjnVG_VW9E",
        "cellView": "form"
      },
      "execution_count": null,
      "outputs": []
    },
    {
      "cell_type": "markdown",
      "source": [
        "<a name=\"07\"></a>\n",
        "## 6. データベースを閉じる"
      ],
      "metadata": {
        "id": "GYLIaOFszVaY"
      }
    },
    {
      "cell_type": "code",
      "source": [
        "#@title 実行してください\n",
        "connection.close()"
      ],
      "metadata": {
        "id": "33dUVw1fzVim",
        "cellView": "form"
      },
      "execution_count": null,
      "outputs": []
    },
    {
      "cell_type": "markdown",
      "source": [
        "<a name=\"08\"></a>\n",
        "## Ex 1. Padansとの連携（データベース化） "
      ],
      "metadata": {
        "id": "OW7cFQ1R9IG1"
      }
    },
    {
      "cell_type": "code",
      "source": [
        "# pandasのデータをデータベース化する\n",
        "# ここでは日本人に多い苗字ランキング上位10位をデータベース化する<br>\n",
        "import pandas as pd\n",
        "import sqlite3\n",
        "\n",
        "# 苗字リストをデータフレームとして準備する\n",
        "jpnames = pd.DataFrame([\n",
        "        [1, '佐藤'],\n",
        "        [2, '鈴木'],\n",
        "        [3, '高橋'],\n",
        "        [4, '田中'],\n",
        "        [5, '伊藤'],\n",
        "        [6, '渡辺'],\n",
        "        [7, '山本'],\n",
        "        [8, '中村'],\n",
        "        [9, '小林'],\n",
        "        [10, '加藤']\n",
        "])\n",
        "# name.dbというデータベースを準備する\n",
        "connection = sqlite3.connect('name.db')\n",
        "# pandasの関数を利用してデータベースに書き出す\n",
        "jpnames.to_sql('name',connection,if_exists='replace',index=None)\n",
        "cursor = connection.cursor()\n",
        "sql = 'select * from name'\n",
        "cursor.execute(sql)\n",
        "rows = cursor.fetchall()\n",
        "ridx = 1\n",
        "for row in rows:\n",
        "  print(ridx, '行目：', row)\n",
        "  ridx += 1\n",
        "# データベースを閉じる\n",
        "connection.close()"
      ],
      "metadata": {
        "id": "vnrntiuE809R"
      },
      "execution_count": null,
      "outputs": []
    },
    {
      "cell_type": "markdown",
      "source": [
        "<a name=\"09\"></a>\n",
        "## Ex 2. Padansとの連携（データベースから読み込む） "
      ],
      "metadata": {
        "id": "KHBY7kNWAf32"
      }
    },
    {
      "cell_type": "code",
      "source": [
        "# データベースのデータをpandasにロードする\n",
        "import pandas as pd\n",
        "import sqlite3\n",
        "# 作成したname.dbというデータベースにアクセス\n",
        "connection = sqlite3.connect('name.db')\n",
        "# pandasの関数を利用してデータベースから読み出す\n",
        "data = pd.read_sql('SELECT * FROM name', connection)\n",
        "print(data)\n",
        "# データベースを閉じる\n",
        "connection.close()\n",
        "# name.csvに書き出す\n",
        "data.to_csv('name.csv', header=None, index=None)"
      ],
      "metadata": {
        "id": "vnlVeDUVAf35"
      },
      "execution_count": null,
      "outputs": []
    },
    {
      "cell_type": "markdown",
      "metadata": {
        "id": "tgm1XuppAUuM"
      },
      "source": [
        "## 参考文献\n",
        "1. https://docs.python.org/ja/3/library/sqlite3.html\n",
        "2. https://pandas.pydata.org/docs/reference/api/pandas.DataFrame.to_sql.html\n",
        "3. https://pandas.pydata.org/docs/reference/api/pandas.read_sql.html"
      ]
    }
  ]
}