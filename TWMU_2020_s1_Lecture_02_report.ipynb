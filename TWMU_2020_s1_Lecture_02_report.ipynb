{
  "nbformat": 4,
  "nbformat_minor": 0,
  "metadata": {
    "colab": {
      "name": "TWMU_2020_s1_Lecture-02-report.ipynb",
      "provenance": [],
      "collapsed_sections": [],
      "authorship_tag": "ABX9TyP7UT9C4rOkwkyClBl8WEZK",
      "include_colab_link": true
    },
    "kernelspec": {
      "name": "python3",
      "display_name": "Python 3"
    }
  },
  "cells": [
    {
      "cell_type": "markdown",
      "metadata": {
        "id": "view-in-github",
        "colab_type": "text"
      },
      "source": [
        "<a href=\"https://colab.research.google.com/github/YujiSue/Lecture/blob/master/TWMU_2020_s1_Lecture_02_report.ipynb\" target=\"_parent\"><img src=\"https://colab.research.google.com/assets/colab-badge.svg\" alt=\"Open In Colab\"/></a>"
      ]
    },
    {
      "cell_type": "markdown",
      "metadata": {
        "id": "rO2A-KpdxaUQ",
        "colab_type": "text"
      },
      "source": [
        "# 課題\n",
        "\n",
        "以下の課題から好きなものを<u>１つ</u>選んで実施してください。  \n",
        "(講義動画から少し改変)  \n",
        "\n",
        "1) [講義用ノート１の「1. AIによる画像識別」の短縮版](https://colab.research.google.com/github/YujiSue/Lecture/blob/master/TWMU_2020_s1_Lecture_02_report_01.ipynb)を開いて、好きな画像をＡＩに判別させて、結果を提出（初心者向け）\n",
        "\n",
        "2) [講義用ノート１の「2.Pythonの画像処理」の短縮版](https://colab.research.google.com/github/YujiSue/Lecture/blob/master/TWMU_2020_s1_Lecture_02_report_02.ipynb)を開いて、好きな画像に対して色・形状の抽出を行った結果を提出（初心者向け）\n",
        "\n",
        "3)  [講義用ノート２の短縮版](https://colab.research.google.com/github/YujiSue/Lecture/blob/master/TWMU_2020_s1_Lecture_02_report_03.ipynb)\n",
        "を見て、最初に健常者/心拡大患者のＸ線画像から好きな画像を選び、残りのデータで人工知能に学習させたのちに、最初に選んだ画像を判定させた結果を提出（チャレンジャー向け）\n",
        "\n",
        "※ただし、課題3)は学習に１時間強かかるのでスマホユーザにはお勧めしない\n",
        "大学に登校可能になってから大学のPCで行うか、どうしてもの場合は、学習済データを利用してよい（リンク先の説明を読んでも方法が分からない場合は、メールにて質問してください）。"
      ]
    },
    {
      "cell_type": "markdown",
      "metadata": {
        "id": "KfAqRW43z7Iv",
        "colab_type": "text"
      },
      "source": [
        "# 課題の提出方法\n",
        "* ipynbをダウンロードできる人は、ダウンロードしてメールで私宛に送ってください。  \n",
        "* 上手くダウンロードできない人、ダウンロード先が分からない人は、メールでその旨ご連絡ください。  \n",
        "パスワードを送るので、以下の方法でファイルを保存してください。  \n",
        "1. 左上の「ファイル」メニューをクリック  \n",
        "※ iPad, iPhoneの人で「ファイル」メニューが見えない人は「三」みたいなアイコンをクリックして「ファイル」を選ぶ  \n",
        "2.  「GitHubにコピーを保存」を選ぶ  \n",
        "![GitHubにコピーを保存](https://user-images.githubusercontent.com/25998652/83706341-2b2b2b80-a652-11ea-806e-f0795de70026.png)  \n",
        "3. 私のメールアドレスと、お送りするパスワードでGitHubにログイン  \n",
        "※各自のメールアドレスではなく、私（末廣）のメールアドレスです  \n",
        "![GitHubにログイン](https://user-images.githubusercontent.com/25998652/83706338-29f9fe80-a652-11ea-9b1a-a62100b895a2.png)  \n",
        "4. 自分の学籍番号をファイル名にして保存  \n",
        "![GitHubにログイン](https://user-images.githubusercontent.com/25998652/83706344-2bc3c200-a652-11ea-9a1e-4efb3c2ea015.png)  \n",
        "5. 保存したらその旨をメールで私に連絡してください  \n",
        "  \n",
        "extra. 修正したい、後から編集したい場合は私宛に再度ご連絡ください。  \n",
        "\n"
      ]
    }
  ]
}