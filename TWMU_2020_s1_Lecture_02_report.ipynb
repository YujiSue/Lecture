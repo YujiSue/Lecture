{
  "nbformat": 4,
  "nbformat_minor": 0,
  "metadata": {
    "colab": {
      "name": "TWMU_2020_s1_Lecture-02-report.ipynb",
      "provenance": [],
      "collapsed_sections": [],
      "authorship_tag": "ABX9TyN1WhCygV1oKXalcJAIUrPL",
      "include_colab_link": true
    },
    "kernelspec": {
      "name": "python3",
      "display_name": "Python 3"
    }
  },
  "cells": [
    {
      "cell_type": "markdown",
      "metadata": {
        "id": "view-in-github",
        "colab_type": "text"
      },
      "source": [
        "<a href=\"https://colab.research.google.com/github/YujiSue/Lecture/blob/master/TWMU_2020_s1_Lecture_02_report.ipynb\" target=\"_parent\"><img src=\"https://colab.research.google.com/assets/colab-badge.svg\" alt=\"Open In Colab\"/></a>"
      ]
    },
    {
      "cell_type": "markdown",
      "metadata": {
        "id": "rO2A-KpdxaUQ",
        "colab_type": "text"
      },
      "source": [
        "# 課題\n",
        "\n",
        "以下の課題から好きなものを<u>１つ</u>選んで実施してください。\n",
        "\n",
        "1) [講義用ノート１](https://colab.research.google.com/github/YujiSue/Lecture/blob/master/TWMU_2020_s1_Lecture_02.ipynb)の「1. AIによる画像識別」で、好きな画像をダウンロードしてＡＩに判別させた結果を提出（初心者向け）\n",
        "\n",
        "2) [講義用ノート１](https://colab.research.google.com/github/YujiSue/Lecture/blob/master/TWMU_2020_s1_Lecture_02.ipynb)の「2.Pythonの画像処理」で、好きな画像をダウンロードして色・形状の抽出を行った結果を提出（初心者向け）\n",
        "\n",
        "3)  [講義用ノート２](https://colab.research.google.com/github/YujiSue/Lecture/blob/master/TWMU_2020_s1_Lecture_02_2.ipynb)\n",
        "の学習を実行し、健常者/心拡大患者のＸ線画像から好きな画像を選んで人工知能に判定させた結果を提出（チャレンジャー向け）\n",
        "\n",
        "※ただし、課題3)は学習に１時間強かかるのでスマホユーザにはお勧めしない\n",
        "大学に登校可能になってから大学のPCで行うか、どうしてもの場合は学習済データを渡すので、別途メールで相談のこと。"
      ]
    },
    {
      "cell_type": "markdown",
      "metadata": {
        "id": "KfAqRW43z7Iv",
        "colab_type": "text"
      },
      "source": [
        "# 課題の提出方法\n"
      ]
    }
  ]
}