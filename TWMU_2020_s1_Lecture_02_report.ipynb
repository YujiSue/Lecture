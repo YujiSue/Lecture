{
  "nbformat": 4,
  "nbformat_minor": 0,
  "metadata": {
    "colab": {
      "name": "TWMU_2020_s1_Lecture-02-report.ipynb",
      "provenance": [],
      "collapsed_sections": [],
      "authorship_tag": "ABX9TyM9CPoR6m47eqKp3dHn0/v2",
      "include_colab_link": true
    },
    "kernelspec": {
      "name": "python3",
      "display_name": "Python 3"
    }
  },
  "cells": [
    {
      "cell_type": "markdown",
      "metadata": {
        "id": "view-in-github",
        "colab_type": "text"
      },
      "source": [
        "<a href=\"https://colab.research.google.com/github/YujiSue/Lecture/blob/master/TWMU_2020_s1_Lecture_02_report.ipynb\" target=\"_parent\"><img src=\"https://colab.research.google.com/assets/colab-badge.svg\" alt=\"Open In Colab\"/></a>"
      ]
    },
    {
      "cell_type": "markdown",
      "metadata": {
        "id": "rO2A-KpdxaUQ",
        "colab_type": "text"
      },
      "source": [
        "# 課題\n",
        "\n",
        "以下の課題から好きなものを<u>１つ</u>選んで実施してください。\n",
        "\n",
        "1) [講義用ノート１](https://colab.research.google.com/github/YujiSue/Lecture/blob/master/TWMU_2020_s1_Lecture_02.ipynb)の「1. AIによる画像識別」で、好きな画像をダウンロードしてＡＩに判別させた結果を提出（初心者向け）\n",
        "\n",
        "2) [講義用ノート１](https://colab.research.google.com/github/YujiSue/Lecture/blob/master/TWMU_2020_s1_Lecture_02.ipynb)の「2.Pythonの画像処理」で、好きな画像をダウンロードして色・形状の抽出を行った結果を提出（初心者向け）\n",
        "\n",
        "3)  [講義用ノート２](https://colab.research.google.com/github/YujiSue/Lecture/blob/master/TWMU_2020_s1_Lecture_02_2.ipynb)\n",
        "の学習を実行し、健常者/心拡大患者のＸ線画像から好きな画像を選んで人工知能に判定させた結果を提出（チャレンジャー向け）\n",
        "\n",
        "※ただし、課題3)は学習に１時間強かかるのでスマホユーザにはお勧めしない\n",
        "大学に登校可能になってから大学のPCで行うか、どうしてもの場合は学習済データを渡すので、別途メールで相談のこと。"
      ]
    },
    {
      "cell_type": "markdown",
      "metadata": {
        "id": "KfAqRW43z7Iv",
        "colab_type": "text"
      },
      "source": [
        "# 課題の提出方法\n",
        "1. 左上の「ファイル」メニューをクリック\n",
        "※ iPad, iPhoneの人で「ファイル」メニューが見えない人は「三」みたいなアイコンをクリックして「ファイル」を選ぶ  \n",
        "2.  「GitHubにコピーを保存」を選ぶ  \n",
        "![GitHubにコピーを保存](https://user-images.githubusercontent.com/25998652/83706341-2b2b2b80-a652-11ea-806e-f0795de70026.png)  \n",
        "3. 講義の最後に提示したメールアドレスとパスワードでGitHubにログイン  \n",
        "※各自のメールアドレスではなく、私（末廣）のメールアドレスです  \n",
        "![GitHubにログイン](https://user-images.githubusercontent.com/25998652/83706338-29f9fe80-a652-11ea-9b1a-a62100b895a2.png)  \n",
        "4. 自分の学籍番号をファイル名にして保存  \n",
        "![GitHubにログイン](https://user-images.githubusercontent.com/25998652/83706344-2bc3c200-a652-11ea-9a1e-4efb3c2ea015.png)  \n",
        "5. 保存したらその旨をメールで私に連絡してください  \n",
        "ちなみに\n",
        "https://github.com/YujiSue4Edu/TWMU_2020/blob/master/学籍番号.ipynb\n",
        "のアドレスで保存したファイルが見れます  \n",
        "  \n",
        "extra 1. 修正したい、後から編集したい場合はGoogle Colab上で、同じように「ファイル」メニューを選ぶ「ノートブックを開く」を選択します  \n",
        "  \n",
        "extra 2. 新しく開くウィンドウの上に「GitHub」というタブがあるので、それを選択して「YujiSue4Edu」というリポジトリ名を入力してください  \n",
        "自分の学籍番号のファイルを選ぶと、保存したものが開けます  \n",
        "※ 他の人のファイルを勝手に書き換えないように注意してください。\n",
        "![GitHubから](https://user-images.githubusercontent.com/25998652/83706717-2f0b7d80-a653-11ea-9407-38c5290999e3.png)\n",
        "\n"
      ]
    }
  ]
}