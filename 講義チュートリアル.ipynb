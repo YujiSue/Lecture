{
  "nbformat": 4,
  "nbformat_minor": 0,
  "metadata": {
    "colab": {
      "name": "講義チュートリアル.ipynb",
      "provenance": [],
      "collapsed_sections": [],
      "toc_visible": true,
      "include_colab_link": true
    },
    "kernelspec": {
      "name": "python3",
      "display_name": "Python 3"
    }
  },
  "cells": [
    {
      "cell_type": "markdown",
      "metadata": {
        "id": "view-in-github",
        "colab_type": "text"
      },
      "source": [
        "<a href=\"https://colab.research.google.com/github/YujiSue/Lecture/blob/master/%E8%AC%9B%E7%BE%A9%E3%83%81%E3%83%A5%E3%83%BC%E3%83%88%E3%83%AA%E3%82%A2%E3%83%AB.ipynb\" target=\"_parent\"><img src=\"https://colab.research.google.com/assets/colab-badge.svg\" alt=\"Open In Colab\"/></a>"
      ]
    },
    {
      "cell_type": "markdown",
      "metadata": {
        "id": "2WydsJVjjdRt"
      },
      "source": [
        "# このノートブックについて\n",
        "このノートブックは、私（筆者）が担当するプログラミングの講義を実施するにあたって作成した<b>チュートリアル用ノート</b>です。  \n",
        "  \n",
        "主な使用目的は、学生の皆さんに<font color=\"red\">講義で必要になる基本操作を事前に体験してもらう</font>ことです。  \n",
        "\n",
        "といっても、あとで分からなくなったら見返せばよいので、<font color=\"blue\">隅から隅まで暗記・理解する必要はありません</font>。  \n",
        "\n",
        "ただ、<b>「<font color=\"red\">※</font>」マークを付けた項目だけは、なるべく目を通して操作して</b>みてください。  \n",
        "\n"
      ]
    },
    {
      "cell_type": "markdown",
      "metadata": {
        "id": "0KJH39wddymu"
      },
      "source": [
        "# はじめに\n"
      ]
    },
    {
      "cell_type": "markdown",
      "metadata": {
        "id": "i2dOBW_TE3lx"
      },
      "source": [
        "このノートは、Googleが提供している<b>【Google Colab】</b>というサービスを利用して作成したものです。  \n",
        "  \n",
        "皆さんがいま使用している機器は、WindowsやMac、あるいはiPadだったりと様々だと思います。  \n",
        "  \n",
        "<b>Google Colab</b>を使用すると、こうした個人ごとの使用機種に依存せず、<b>仮想的に学生全員が同じ性能のコンピュータを使用した状態</b>になります。 \n",
        "   \n",
        "これにより、<b>操作方法の違いや使用機器の性能差が原因で起こる、学生間の不平等な授業進行度をある程度解消する</b>ことが可能です。  \n",
        "  \n",
        "そのためリモートでのコンピュータ演習に利用する大学が増えていて、私も講義で活用することにしています。  \n",
        "    \n",
        "蛇足ですが、最新の人工知能を無料で使用できたりもするので、興味のある人は下記のリンク先を見るとより詳しい説明が載っています。  \n",
        "[Google Colabについて](https://colab.research.google.com/notebooks/welcome.ipynb)"
      ]
    },
    {
      "cell_type": "markdown",
      "metadata": {
        "id": "MugLDX2Mo5Yk"
      },
      "source": [
        "<b>Google Colab</b>では、<b>【Python】</b>というプログラミング言語を使って、様々な機能を実行することができます。  \n",
        "  \n",
        "プログラミング言語というと途端にハードルが高く感じる人もいるかもしれません。  \n",
        "ですが私の講義に関して言えば、とくに気構える必要はありません。  \n",
        "  \n",
        "やることは単純で、英語混じりのチョット特殊な命令文を使って、コンピュータに計算してもらうだけです。  \n"
      ]
    },
    {
      "cell_type": "markdown",
      "metadata": {
        "id": "daPIcNxiUfL4"
      },
      "source": [
        "# Google Colabの画面の見方\n",
        "\n"
      ]
    },
    {
      "cell_type": "markdown",
      "metadata": {
        "id": "F6JyRfZWATa2"
      },
      "source": [
        "下に一般的な画面をお示しします。  \n",
        "  \n",
        "もし自分の見ている画面となにか違うな？と感じたら、以下のリンク先を見て確認してみてください。  \n",
        "1.   [メニューバーが表示されないとき](#invis-menu)  \n",
        "2.   [サイドメニューが表示されないとき](#invis-side)   \n",
        "3.   [サブメニューの「接続」のところの表記が違うとき](#session)"
      ]
    },
    {
      "cell_type": "markdown",
      "metadata": {
        "id": "5V0Gg8Qi3ChW"
      },
      "source": [
        "![画面の例](https://raw.githubusercontent.com/YujiSue/Lecture/master/img/colab2.png)  \n"
      ]
    },
    {
      "cell_type": "markdown",
      "metadata": {
        "id": "MCo5zllkmjed"
      },
      "source": [
        "# Google Colabの基本的な使い方<font color=\"red\">※</font>\n",
        "講義で必要になるのは、<b>以下の５つの操作</b>です。  \n",
        "\n",
        "1.   [ノートブックを開く](#open-book)\n",
        "3.   [ノートブックの内容を改変する](#edit-book)\n",
        "4.   [プログラムを実行する](#exec-py)\n",
        "5.   [ストレージを使う](#use-store)\n",
        "2.   [ノートブックを保存/ダウンロードする](#save-book)\n",
        "\n",
        "最初に書いたように、この５つの操作を<font color=\"red\">自分の手で実際に試してみる</font>ことが、このノートの主目的になります。  \n",
        "具体的な方法を順番に見ていきます。"
      ]
    },
    {
      "cell_type": "markdown",
      "metadata": {
        "id": "KSCfrf95pbC0"
      },
      "source": [
        "<a name=\"open-book\"></a>\n",
        "## 1. ノートブックを開く\n",
        "すでに<b>このノートを開いている時点で何をいまさら？</b>なわけですが、あとで開き方が思い出せなくなったときのために<font color=\"red\">スクリーンショットを撮っておく</font>のをおススメします。   \n"
      ]
    },
    {
      "cell_type": "markdown",
      "metadata": {
        "id": "Ub9uaZv8WamO"
      },
      "source": [
        "大まかな手順は以下の通りです。  \n",
        "  \n",
        "1. [Googleにログイン](https://accounts.google.com/ServiceLogin/signinchooser?hl=ja&passive=true)する。  \n",
        "\n",
        "2. 講義資料のPDF、ないしは講義用のサイトに提示されたリンクをクリックして開く。  "
      ]
    },
    {
      "cell_type": "markdown",
      "metadata": {
        "id": "YeV7ASBVXMiM"
      },
      "source": [
        "\n"
      ]
    },
    {
      "cell_type": "markdown",
      "metadata": {
        "id": "rHQF5Aw_V9RT"
      },
      "source": [
        "<font color=\"red\">＜注意事項＞</font>  \n",
        "講義で使用するノートブックは、[講義用プログラム集サイト](https://github.com/YujiSue/Lecture)に置かれていますが、ここに置かれたオリジナルのノートの編集権限は教員にしか与えていません。  \n",
        "これは、誰かが誤って書き換えてしまった場合、あとで見る学生が書き換えたバージョンを参照してしまうのを防ぐためです。  \n",
        "そのため、学生の皆さんには<b>全員一度ノートをコピーして使用していただく</b>ことになります。  \n",
        "\n",
        "  "
      ]
    },
    {
      "cell_type": "markdown",
      "metadata": {
        "id": "MlUhvD24vZic"
      },
      "source": [
        "\n",
        "\n",
        "以下に挙げた例に該当する場合は、<b>こちらの意図した形でノートブックを開けていない可能性があります</b>ので、ぜひチェックしてください。\n"
      ]
    },
    {
      "cell_type": "markdown",
      "metadata": {
        "id": "vNGFHe1muTME"
      },
      "source": [
        ""
      ]
    },
    {
      "cell_type": "markdown",
      "metadata": {
        "id": "fSBJO_KsFb_O"
      },
      "source": [
        "<a name=\"edit-book\"></a>\n",
        "## 2. ノートブックの内容を改変する\n"
      ]
    },
    {
      "cell_type": "markdown",
      "metadata": {
        "id": "thQ4ZiLtHf-e"
      },
      "source": [
        "<b>Google Colab</b>には、２種類の<b>【セル（枠）】</b>があります。  \n",
        "１つは、今読んでいるこの文章が書かれている<font color=\"darkred\">【テキストセル】</font>、  \n",
        "もう１つは、この<b>セル</b>の下にある色違いの<font color=\"darkblue\">【コードセル】</font>です。  \n",
        "\n",
        "講義では、主に<font color=\"darkblue\">コードセル</font>の内容を改変していくことになります。  \n",
        "  \n",
        "さっそく下の<font color=\"darkblue\">コードセル</font>をクリックまたはタッチしてみてください。  \n",
        "カーソルが現れたら、編集できるようになります。  \n",
        "  \n",
        "ためしに、何か文字を書き込んでみましょう。"
      ]
    },
    {
      "cell_type": "code",
      "metadata": {
        "id": "oOxf4CIVmb5B"
      },
      "source": [
        "# ここが【コードセル】です。\n",
        "# ためしに何か適当に文字を入力してみてください。\n",
        "\n"
      ],
      "execution_count": null,
      "outputs": []
    },
    {
      "cell_type": "markdown",
      "metadata": {
        "id": "pAKO0b02Fxd0"
      },
      "source": [
        "<font color=\"darkblue\">コードセル</font>には、下にあるように別バージョンがあります。  \n",
        "講義では、適宜これらの<font color=\"darkblue\">コードセル</font>を使い分けていきます。  \n",
        "  \n",
        "下にある別バージョンの方も、数字（半角）や文字を入力したり、チェックボックスにチェックを入れてみたりと、いろいろと試してみましょう。\n"
      ]
    },
    {
      "cell_type": "code",
      "metadata": {
        "id": "kFGartU0Fwem",
        "cellView": "form"
      },
      "source": [
        "#@title 【コードセル】 別バージョン（フォーム形態）\n",
        "数字 = 0 #@param {type:\"number\"}\n",
        "テキスト = '' #@param {type:\"string\"}\n",
        "チェック = False  #@param {type:\"boolean\"}"
      ],
      "execution_count": null,
      "outputs": []
    },
    {
      "cell_type": "markdown",
      "metadata": {
        "id": "UqeKNO31QYOZ"
      },
      "source": [
        "<a name=\"exec-py\"></a>\n",
        "## 3. プログラムを実行する"
      ]
    },
    {
      "cell_type": "markdown",
      "metadata": {
        "id": "DlyD-tZqIFRE"
      },
      "source": [
        "<b>Google Colab</b>を使用するにあたって、一番必要になるのが<b>Pythonプログラムの実行</b>です。  \n",
        "  \n",
        "ここまで<font color=\"blue\">プログラムのことなんて、まだ一文字も説明していないのに！？</font>と思うかもしれませんが、  \n",
        "<font color=\"red\">今回は実行に必要な操作方法だけ</font>確認しておいてください。  \n",
        "  \n"
      ]
    },
    {
      "cell_type": "markdown",
      "metadata": {
        "id": "16dDAbOHJi2C"
      },
      "source": [
        "<font color=\"darkblue\">コードセル</font>を編集したときに気づいた方もいるかと思いますが、<font color=\"darkblue\">コードセル</font>の左上に![▶](https://raw.githubusercontent.com/YujiSue/Lecture/master/img/play_circle.png)ボタンがあります。  \n",
        "これが<b>【実行ボタン】</b>です。  \n",
        "  \n",
        "<font color=\"red\">この![▶](https://raw.githubusercontent.com/YujiSue/Lecture/master/img/play_circle.png)の部分をクリックまたはタッチする</font>だけで、プログラムが実行できます。  \n",
        "  \n",
        "ためしに、下の<font color=\"darkblue\">コードセル</font>に簡単な<b>Python</b>プログラムをのせてみました。  \n",
        "<font color=\"darkblue\">コードセル</font>内をクリック、またはタッチしたあと、今回は<b>編集はしないで実行ボタンだけ押して</b>みましょう。"
      ]
    },
    {
      "cell_type": "code",
      "metadata": {
        "id": "J-Z_xA0kkH21"
      },
      "source": [
        "# テストプログラムを実行してみます。\n",
        "# 左に見えている ▶ ボタンを押してみてください。\n",
        "\n",
        "print(\"実行しました！\") # 左の１文がテスト用プログラムの本体です(短)。 \n",
        "\n",
        "#この【コードセル】の下に何やら出現したら成功です！"
      ],
      "execution_count": null,
      "outputs": []
    },
    {
      "cell_type": "markdown",
      "metadata": {
        "id": "9j2JM5xNm8I1"
      },
      "source": [
        "どうでしょうか？  「実行しました！」と表示されましたか？  \n",
        "操作としてはこれだけです。  \n",
        "  \n",
        "もし何も表示されなかった人は、以下に従って対応してみてください。  \n",
        "*  実行ボタンの周囲が点線で囲まれている or 一回り大きな円が周囲を回っている場合...  \n",
        "=> <font color=\"blue\">実行中です。少し待ってみてください。</font>  \n",
        "  \n",
        "*  実行ボタンが赤い場合...  \n",
        "=> <font color=\"red\">エラーが出ていることを示しています。</font>  \n",
        "<font color=\"darkblue\">コードセル</font>内を編集してしまったと思われます。  \n",
        "一度このノートブックを開きなおして、再度実行してみてください。\n",
        "  \n",
        "*  それ以外の場合...  \n",
        "=> 実行ボタンを押しそこなった可能性があります。  \n",
        "もう１度実行ボタンを押してみてください。  \n",
        "<b>それでも何も起きない場合は、事前に提示した担当教員宛に連絡をください。</b>"
      ]
    },
    {
      "cell_type": "markdown",
      "metadata": {
        "id": "cLI6AtyL1cYW"
      },
      "source": [
        "<a name=\"use-store\"></a>\n",
        "## 4. ストレージを使う\n"
      ]
    },
    {
      "cell_type": "markdown",
      "metadata": {
        "id": "9IsToXc73Q0i"
      },
      "source": [
        "<b>ストレージ</b>と聞いてもピンとこない人もいるかもしれませんが、単にデータの保管庫（storage）のことです。  \n",
        "  \n",
        "自分のスマホやコンピュータを使う場合、写真や文書データはコンピュータ内や、外付けの接続機器などに保存されます。  \n",
        "（最近だとクラウドというサービスもありますが...）  \n",
        "  \n",
        "ところが、<b>Google Colab</b>では主体がGoogleのコンピュータなので、「ちょっとデスクトップに保存しておこう」といったことができません。  \n",
        "そもそも、<b>Google Colab</b>のデスクトップってドコ？となるわけです。  \n",
        "  \n",
        "もちろんデータが保存できないと不便なので、<b>Google Colab</b>でもちゃんとデータは保存できます。  \n",
        "その保管場所を<b>ストレージ</b>と呼んでいます。  \n",
        "  \n",
        "<b>ストレージ</b>は<font color=\"red\">下図の赤丸で囲んだところをクリック、またはタッチすることでサイドメニューに表示されます</font>。  \n",
        "  \n",
        "<img src=\"https://raw.githubusercontent.com/YujiSue/Lecture/master/img/storage.png\" width=\"400\"> <br>  \n",
        "開くと<i>sample_data</i>というフォルダがあると思いますが、これはGoogleが初めから用意しているフォルダです。  \n",
        "\n",
        " <img src=\"https://raw.githubusercontent.com/YujiSue/Lecture/master/img/upload.png\" width=\"400\">  \n",
        "  \n"
      ]
    },
    {
      "cell_type": "markdown",
      "metadata": {
        "id": "lYnoFmuvuaY_"
      },
      "source": [
        "## 5. ノートブックを保存/ダウンロードする\n",
        "  \n"
      ]
    },
    {
      "cell_type": "code",
      "metadata": {
        "colab": {
          "base_uri": "https://localhost:8080/",
          "height": 17
        },
        "id": "pv0pNyORA0jV",
        "outputId": "e7c53254-a565-4da7-db39-43ed121a3a08"
      },
      "source": [
        "from google.colab import files\n",
        "files.download('/content/sample_data/README.md')"
      ],
      "execution_count": null,
      "outputs": [
        {
          "output_type": "display_data",
          "data": {
            "application/javascript": [
              "\n",
              "    async function download(id, filename, size) {\n",
              "      if (!google.colab.kernel.accessAllowed) {\n",
              "        return;\n",
              "      }\n",
              "      const div = document.createElement('div');\n",
              "      const label = document.createElement('label');\n",
              "      label.textContent = `Downloading \"${filename}\": `;\n",
              "      div.appendChild(label);\n",
              "      const progress = document.createElement('progress');\n",
              "      progress.max = size;\n",
              "      div.appendChild(progress);\n",
              "      document.body.appendChild(div);\n",
              "\n",
              "      const buffers = [];\n",
              "      let downloaded = 0;\n",
              "\n",
              "      const channel = await google.colab.kernel.comms.open(id);\n",
              "      // Send a message to notify the kernel that we're ready.\n",
              "      channel.send({})\n",
              "\n",
              "      for await (const message of channel.messages) {\n",
              "        // Send a message to notify the kernel that we're ready.\n",
              "        channel.send({})\n",
              "        if (message.buffers) {\n",
              "          for (const buffer of message.buffers) {\n",
              "            buffers.push(buffer);\n",
              "            downloaded += buffer.byteLength;\n",
              "            progress.value = downloaded;\n",
              "          }\n",
              "        }\n",
              "      }\n",
              "      const blob = new Blob(buffers, {type: 'application/binary'});\n",
              "      const a = document.createElement('a');\n",
              "      a.href = window.URL.createObjectURL(blob);\n",
              "      a.download = filename;\n",
              "      div.appendChild(a);\n",
              "      a.click();\n",
              "      div.remove();\n",
              "    }\n",
              "  "
            ],
            "text/plain": [
              "<IPython.core.display.Javascript object>"
            ]
          },
          "metadata": {
            "tags": []
          }
        },
        {
          "output_type": "display_data",
          "data": {
            "application/javascript": [
              "download(\"download_439e7cfc-182e-458b-865b-027e92805747\", \"README.md\", 930)"
            ],
            "text/plain": [
              "<IPython.core.display.Javascript object>"
            ]
          },
          "metadata": {
            "tags": []
          }
        }
      ]
    },
    {
      "cell_type": "markdown",
      "metadata": {
        "id": "pWRCsP-QvLHc"
      },
      "source": [
        ""
      ]
    },
    {
      "cell_type": "markdown",
      "metadata": {
        "id": "ZN06d5Elz9S-"
      },
      "source": [
        "# おわりに\n",
        "\n",
        "\n"
      ]
    },
    {
      "cell_type": "markdown",
      "metadata": {
        "id": "WzmEOzoNU5q_"
      },
      "source": [
        "# トラブルシューティング"
      ]
    },
    {
      "cell_type": "markdown",
      "metadata": {
        "id": "WMKcddPfkAxV"
      },
      "source": [
        "<a name=\"invis-menu\"></a>\n",
        "## 最上段のメニューバーが表示されない\n",
        "下図の右上にある赤丸で囲んだ部分をクリック、\n",
        "またはタッチしてください。  \n",
        "![メニューバーの表示方法]()"
      ]
    },
    {
      "cell_type": "markdown",
      "metadata": {
        "id": "UVc8vootwF0K"
      },
      "source": [
        "<a name=\"invis-side\"></a>\n",
        "## 左のサイドメニューが表示されない\n",
        "下図の左上端にある赤丸で囲んだ部分をクリック、\n",
        "またはタッチしてください。"
      ]
    },
    {
      "cell_type": "markdown",
      "metadata": {
        "id": "oAdJxtH1wQ56"
      },
      "source": [
        "<a name=\"session\"></a>\n",
        "## サブメニューの表記について\n",
        "\n"
      ]
    },
    {
      "cell_type": "markdown",
      "metadata": {
        "id": "SHiC0zOWNPtw"
      },
      "source": [
        "サブメニューは、状態に応じて以下のように表記のバリエーションがあります。  \n",
        "1. Colabにアクセスしたばかりのとき  \n",
        "<img src=\"https://raw.githubusercontent.com/YujiSue/Lecture/master/img/unsession.png\" height=\"30\">  \n",
        "  \n",
        "2. Colabのセットアップ中  \n",
        "<img src=\"https://raw.githubusercontent.com/YujiSue/Lecture/master/img/connect1.png\" height=\"30\"> <img src=\"https://raw.githubusercontent.com/YujiSue/Lecture/master/img/connect2.png\" height=\"30\">  \n",
        "  \n",
        "3. Colabのセットアップが完了した状態  \n",
        "<img src=\"https://raw.githubusercontent.com/YujiSue/Lecture/master/img/connected.png\" height=\"30\">  \n",
        "  \n",
        "4. 一度セットアップが完了したが、しばらく何も操作せず放置した場合  \n",
        "<img src=\"https://raw.githubusercontent.com/YujiSue/Lecture/master/img/resession.png\" height=\"30\">  \n",
        "  \n",
        "  \n",
        "---\n",
        "ノートブックを読むだけなら、<b>どの状態でも問題ありません</b>。 \n",
        "  \n",
        "また、<b>Python</b>プログラムを実行するときは、長くても２\n",
        "-３分待てば最終的に<b>３番の表記になります</b>。  \n",
        "  \n",
        "<b>もし５分以上待っても３番の表記にならない場合は、事前に提示した担当教員宛に連絡をください</b>。"
      ]
    }
  ]
}