{
  "nbformat": 4,
  "nbformat_minor": 0,
  "metadata": {
    "colab": {
      "name": "講義チュートリアル.ipynb",
      "provenance": [],
      "collapsed_sections": [
        "2WydsJVjjdRt"
      ],
      "include_colab_link": true
    },
    "kernelspec": {
      "name": "python3",
      "display_name": "Python 3"
    }
  },
  "cells": [
    {
      "cell_type": "markdown",
      "metadata": {
        "id": "view-in-github",
        "colab_type": "text"
      },
      "source": [
        "<a href=\"https://colab.research.google.com/github/YujiSue/Lecture/blob/master/%E8%AC%9B%E7%BE%A9%E3%83%81%E3%83%A5%E3%83%BC%E3%83%88%E3%83%AA%E3%82%A2%E3%83%AB.ipynb\" target=\"_parent\"><img src=\"https://colab.research.google.com/assets/colab-badge.svg\" alt=\"Open In Colab\"/></a>"
      ]
    },
    {
      "cell_type": "markdown",
      "metadata": {
        "id": "2WydsJVjjdRt"
      },
      "source": [
        "# このノートブックについて\n",
        "このノートブックは、私（筆者）がプログラミングの講義を実施するにあたって作成した<b>チュートリアル用ノート</b>です。  \n",
        "  \n",
        "主な使用目的は、学生の皆さんに<b>講義で必要になる基本操作を事前に体験してもらう</b>ことです。  \n",
        "  \n",
        "とくに<font color=\"crimson\">[基本的な使い方](#how-to)の項目に目を通して操作して</font>おくと、講義に合わせてスムーズに課題を進められると思います。  \n",
        "  \n",
        "といっても、あとで分からなくなったときに見返せばよいので、<b>隅から隅まで暗記・理解する必要はありません</b>。  \n",
        "  \n",
        "空いた時間があれば、目を通しておいてください。"
      ]
    },
    {
      "cell_type": "markdown",
      "metadata": {
        "id": "0KJH39wddymu"
      },
      "source": [
        "# はじめに\n"
      ]
    },
    {
      "cell_type": "markdown",
      "metadata": {
        "id": "i2dOBW_TE3lx"
      },
      "source": [
        "このノートは、Googleが提供している<b>【Google Colab】</b>というサービスを利用しています。  \n",
        "  \n",
        "皆さんが今この画面を見るのに使用しているのは、Windowsですか？Macですか？あるいはiPadとかでしょうか？  \n",
        "  \n",
        "<b>Google Colab</b>を使うと、こうした個人ごとの使用機種の違いを無視して、この画面を見ている全員が<b>仮想的に同じ性能のコンピュータを利用する</b>ことができます。  \n",
        "   \n",
        "これにより、<b>操作方法の違いや使用機器の性能差が原因で起こる、学生間の不公平な授業進行を解消する</b>ことが可能です。  \n",
        "  \n",
        "そのためリモートでのコンピュータ演習授業に利用する大学が増えていて、私も講義で活用することにしています。  \n",
        "    \n",
        "蛇足ですが、最新の人工知能を無料で使用できたりもするので、興味のある人は下記のリンク先を見るとより詳しい説明が載っています。  \n",
        "[Google Colabについて](https://colab.research.google.com/notebooks/welcome.ipynb)"
      ]
    },
    {
      "cell_type": "markdown",
      "metadata": {
        "id": "MugLDX2Mo5Yk"
      },
      "source": [
        "<b>Google Colab</b>では、<b>【Python】</b>というプログラミング言語を使って、様々な機能を実行することができます。  \n",
        "  \n",
        "プログラミング言語というと途端にハードルが高く感じるかもしれませんが、とくに気構える必要はありません。  \n",
        "  \n",
        "単純に英語混じりのチョット特殊な命令文を使って、コンピュータに計算してもらうだけです。  \n"
      ]
    },
    {
      "cell_type": "markdown",
      "metadata": {
        "id": "daPIcNxiUfL4"
      },
      "source": [
        "<a name=\"colab-view\"></a>\n",
        "# Google Colabの画面の見方\n",
        "\n"
      ]
    },
    {
      "cell_type": "markdown",
      "metadata": {
        "id": "F6JyRfZWATa2"
      },
      "source": [
        "下に一般的な画面をお示しします。  \n",
        "各部の名称はこのあとの説明でも使っているので、必要に応じて確認してください。  \n",
        "  \n",
        "  \n",
        "*  [メニューバーが表示されないとき](#invis-menu)  \n",
        "*  [サイドビューが表示されないとき](#invis-side)   \n",
        "*  [サブメニューの「接続」のところの表記が違うとき](#session)"
      ]
    },
    {
      "cell_type": "markdown",
      "metadata": {
        "id": "5V0Gg8Qi3ChW"
      },
      "source": [
        "![画面の例](https://raw.githubusercontent.com/YujiSue/Lecture/master/img/colab2.png)  \n"
      ]
    },
    {
      "cell_type": "markdown",
      "metadata": {
        "id": "MCo5zllkmjed"
      },
      "source": [
        "<a name=\"how-to\"></a>\n",
        "# Google Colabの基本的な使い方\n",
        "講義で必要になるのは、<b>以下の５つの操作</b>です。  \n",
        "\n",
        "1.   [ノートブックを開く](#open-book)\n",
        "3.   [ノートブックの内容を改変する](#edit-book)\n",
        "4.   [プログラムを実行する](#exec-py)\n",
        "5.   [ストレージを使う](#use-store)\n",
        "2.   [ノートブックを保存する](#save-book)\n",
        "\n",
        "最初に書いたように、この５つの操作を<font color=\"crimson\">自分の手で実際に試してみる</font>ことが、このノートの主目的になります。  \n",
        "具体的な方法を順番に見ていきます。"
      ]
    },
    {
      "cell_type": "markdown",
      "metadata": {
        "id": "KSCfrf95pbC0"
      },
      "source": [
        "<a name=\"open-book\"></a>\n",
        "## 1. ノートブックを開く\n",
        "  \n"
      ]
    },
    {
      "cell_type": "markdown",
      "metadata": {
        "id": "UzuASgAP_iUb"
      },
      "source": [
        "すでに<font color=\"mediumblue\">このノートを開いている時点で何をいまさら？</font>と思うかもしれませんが、講義用のノート（＋レポート課題）の場合、初回と２回目以降で開き方が変わるのでご注意ください。 "
      ]
    },
    {
      "cell_type": "markdown",
      "metadata": {
        "id": "Ub9uaZv8WamO"
      },
      "source": [
        "まずは<a name=\"primary-open\"></a>\n",
        "### <u>初めて開く場合</u>\n",
        "の手順です。  \n",
        "  \n",
        "1. [Googleにログイン](https://accounts.google.com/AddSession?hl=ja)する([*1](#note01))。  \n",
        "2. 講義資料のPDFなどで事前に提示されたリンクを開く。"
      ]
    },
    {
      "cell_type": "markdown",
      "metadata": {
        "id": "H432-TSGA1mM"
      },
      "source": [
        "<a name=\"note01\"></a>\n",
        "*1  Googleアカウントを持っていない人は、お手数ですが[個人用のGoogleアカウントを取得](https://support.google.com/accounts/answer/27441?hl=ja)してください。  \n",
        "必要がなくなったら[アカウントは削除](https://support.google.com/accounts/answer/32046?hl=ja)できます。  \n",
        "私的なアカウントを使うことに不安がある方も同様です。 \n",
        "  \n",
        "学校がGoogle for Educationの契約をしている場合、学校から配布されたメールアカウントでもログインできます。  \n",
        "<font color=\"crimson\">※ただし、学校から配布されたアカウントを使用して[問題が発生する](#account-err)場合は、別のGoogleアカウントを使用</font>してください。  \n",
        "  \n",
        "> なお念のため宣言しておきますが、<b>講義ノートから個人情報へアクセス、あるいは情報収集するようなことはありません</b>。  \n",
        "> このノート含め、講義用に作成した全てのノートは、米マイクロソフト社傘下のGithubというサイトで、世界中に無制限で公開しています。何か問題が疑われる場合は、知識のある第三者がいつでも内容を精査可能な状態にあることを明記しておきます。  \n"
      ]
    },
    {
      "cell_type": "markdown",
      "metadata": {
        "id": "vNGFHe1muTME"
      },
      "source": [
        "つぎに\n",
        "### <u>２回目以降に開く場合</u>\n",
        "の手順はこちらです。  \n",
        "  \n",
        "1. [Googleにログイン](https://accounts.google.com/AddSession?hl=ja)する([*2](#note02))。  \n",
        "2. [Google Colab](https://colab.research.google.com/notebooks/welcome.ipynb)を開く。\n",
        "3. 下図のように、上段メニューバー([*3](#note03))の<b><u>【ファイル】</b></u>から<b><u>【ノートブックを開く】</b></u>を選んで、初回に保存したコピーを選ぶ。  \n",
        "  \n",
        "<img src=\"https://raw.githubusercontent.com/YujiSue/Lecture/master/img/file-open.png\" width=\"400\"> \n"
      ]
    },
    {
      "cell_type": "markdown",
      "metadata": {
        "id": "rHQF5Aw_V9RT"
      },
      "source": [
        "<a name=\"note02\"></a>\n",
        "*2 初回に使用したのと同じgmailアドレスでログインしてください。  \n",
        "  \n",
        "<a name=\"note03\"></a>\n",
        "*3 メニューバーが表示されていない人は[こちら](#invis-menu)を参照して表示させてください。\n"
      ]
    },
    {
      "cell_type": "markdown",
      "metadata": {
        "id": "MlUhvD24vZic"
      },
      "source": [
        "<a name=\"account-err\"></a>\n",
        "### トラブルシューティング\n"
      ]
    },
    {
      "cell_type": "markdown",
      "metadata": {
        "id": "8UBoHEZvaSZ0"
      },
      "source": [
        "下のように、繰り返しログイン要求が表示される場合、GoogleDriveの使用権が確立していない可能性が高いです。  \n",
        "\n",
        "<img src=\"https://raw.githubusercontent.com/YujiSue/Lecture/master/img/err.png\" width=\"300\">  \n",
        "  \n",
        "原因として、一部の学校ではGoogle for Educationを契約しているものの、GoogleDriveの使用権を凍結しているケースがあります。  \n",
        "この場合、学校配布のメールアカウントでGoogleにログインはできても<b>Colab</b>は使えません。  \n",
        "別途[個人用のGoogleアカウントを取得](https://support.google.com/accounts/answer/27441?hl=ja)する必要があります。  \n",
        "  \n",
        "すでに学校配布のメールアカウントでログインしている場合は、一度ログアウトして別のGoogleアカウントでログインし直してください。  \n",
        "<font color=\"crimson\">※一度ログアウトすると、次にログインするときはパスワードが必要になります。パスワードを忘れた人は、ログアウトする前に必ずパスワードを確認してください。</font>  \n",
        "  \n",
        "  <br>\n",
        "  \n",
        "ログアウトするには、下図のように画面右上のアカウントアイコンをクリックまたはタッチして、最下部の<b><u>【ログアウト】</u></b>ボタンを押してください。  \n",
        "  \n",
        "<img src=\"https://raw.githubusercontent.com/YujiSue/Lecture/master/img/logout.png\">  "
      ]
    },
    {
      "cell_type": "markdown",
      "metadata": {
        "id": "fSBJO_KsFb_O"
      },
      "source": [
        "<a name=\"edit-book\"></a>\n",
        "## 2. ノートブックの内容を改変する\n"
      ]
    },
    {
      "cell_type": "markdown",
      "metadata": {
        "id": "thQ4ZiLtHf-e"
      },
      "source": [
        "<b>Google Colab</b>には、２種類の<b>【セル（枠）】</b>があります。  \n",
        "１つは、今読んでいるこの文章が書かれている<font color=\"darkred\">【テキストセル】</font>、  \n",
        "もう１つは、この<b>セル</b>の下にある色違いの<font color=\"darkblue\">【コードセル】</font>です。  \n",
        "\n",
        "講義では、主に<font color=\"darkblue\">コードセル</font>の内容を改変していくことになります。  \n",
        "  \n",
        "さっそく下の<font color=\"darkblue\">コードセル</font>を<font color=\"crimson\">クリックまたはタッチしてみて</font>ください。  \n",
        "カーソルが現れたら編集できるようになります。  \n",
        "ためしに、何か文字を書き込んでみましょう。"
      ]
    },
    {
      "cell_type": "code",
      "metadata": {
        "id": "oOxf4CIVmb5B"
      },
      "source": [
        "# ここが【コードセル】です。\n",
        "# ためしに何か適当に文字を入力してみてください。\n",
        "\n"
      ],
      "execution_count": null,
      "outputs": []
    },
    {
      "cell_type": "markdown",
      "metadata": {
        "id": "pAKO0b02Fxd0"
      },
      "source": [
        "---  \n",
        "  \n",
        "<font color=\"darkblue\">コードセル</font>には、下にあるように別バージョンがあります。  \n",
        "講義では、適宜これらの<font color=\"darkblue\">コードセル</font>を使い分けていきます。  \n",
        "  \n",
        "下にある別バージョンも、<font color=\"crimson\">数字（半角）や文字を入力したり、チェックボックスにチェックを入れてみたり</font>と、いろいろと試してみましょう。\n"
      ]
    },
    {
      "cell_type": "code",
      "metadata": {
        "id": "kFGartU0Fwem",
        "cellView": "form"
      },
      "source": [
        "#@title 【コードセル】 別バージョン（フォーム形態）\n",
        "数字 = 0 #@param {type:\"number\"}\n",
        "テキスト = '' #@param {type:\"string\"}\n",
        "チェック = False  #@param {type:\"boolean\"}"
      ],
      "execution_count": null,
      "outputs": []
    },
    {
      "cell_type": "markdown",
      "metadata": {
        "id": "UqeKNO31QYOZ"
      },
      "source": [
        "<a name=\"exec-py\"></a>\n",
        "## 3. プログラムを実行する"
      ]
    },
    {
      "cell_type": "markdown",
      "metadata": {
        "id": "DlyD-tZqIFRE"
      },
      "source": [
        "<b>Google Colab</b>を使用するにあたって、一番必要になるのが<b>Pythonプログラムの実行</b>です。  \n",
        "  \n",
        "ここまで<font color=\"mediumblue\">プログラムのことなんて、まだ一文字も説明していないのに！？</font>と思うかもしれませんが、  \n",
        "<font color=\"crimson\">今回は実行に必要な操作方法だけ</font>確認しておいてください。  \n",
        "  \n"
      ]
    },
    {
      "cell_type": "markdown",
      "metadata": {
        "id": "16dDAbOHJi2C"
      },
      "source": [
        "<font color=\"darkblue\">コードセル</font>を編集したときに気づいた方もいるかと思いますが、<font color=\"darkblue\">コードセル</font>の左上に![▶](https://raw.githubusercontent.com/YujiSue/Lecture/master/img/play_circle.png)ボタンがあります。  \n",
        "これが<b>【実行ボタン】</b>です。  \n",
        "  \n",
        "<font color=\"crimson\">この![▶](https://raw.githubusercontent.com/YujiSue/Lecture/master/img/play_circle.png)の部分をクリックまたはタッチする</font>だけで、プログラムが実行できます。  \n",
        "  \n",
        "ためしに、下の<font color=\"darkblue\">コードセル</font>に簡単な<b>Python</b>プログラムをのせてみました。  \n",
        "今回は<b>編集はしないで実行ボタンだけ押して</b>みましょう。"
      ]
    },
    {
      "cell_type": "code",
      "metadata": {
        "id": "J-Z_xA0kkH21"
      },
      "source": [
        "# テストプログラムを実行してみます。\n",
        "# 左に見えている ▶ ボタンを押してみてください。\n",
        "\n",
        "print(\"実行しました！\") # 左の１文がテスト用プログラムの本体です(短)。 \n",
        "\n",
        "#この【コードセル】の下に何やら出現したら成功です！"
      ],
      "execution_count": null,
      "outputs": []
    },
    {
      "cell_type": "markdown",
      "metadata": {
        "id": "9j2JM5xNm8I1"
      },
      "source": [
        "どうでしょうか？  「実行しました！」と表示されましたか？  \n",
        "操作としてはこれだけです。\n"
      ]
    },
    {
      "cell_type": "markdown",
      "metadata": {
        "id": "1aAco05cxrdu"
      },
      "source": [
        "---  \n",
        "  \n",
        "もし何も表示されなかった人は、以下に従って対応してみてください。  \n",
        "*  実行ボタンの周囲が点線で囲まれている場合...  \n",
        "=> <font color=\"darkgreen\">実行中です。少し待ってみてください。</font>  \n",
        "  \n",
        "*  実行ボタンが赤い場合...  \n",
        "=> <font color=\"crimson\">エラーが出ていることを示しています。</font>  \n",
        "<font color=\"darkblue\">コードセル</font>内を編集してしまったと思われるので、一度このノートブックを開きなおして再度実行してみてください。\n",
        "  \n",
        "*  それ以外の場合...  \n",
        "=> <font color=\"mediumblue\">実行ボタンを押しそこなった可能性があります。</font>  \n",
        "もう１度実行ボタンを押してみてください。  \n",
        "<b>それでも何も起きない場合は、事前に提示した担当教員宛に連絡をください。</b>"
      ]
    },
    {
      "cell_type": "markdown",
      "metadata": {
        "id": "cLI6AtyL1cYW"
      },
      "source": [
        "<a name=\"use-store\"></a>\n",
        "## 4. ストレージを使う\n"
      ]
    },
    {
      "cell_type": "markdown",
      "metadata": {
        "id": "9IsToXc73Q0i"
      },
      "source": [
        "<b>ストレージ</b>と聞いてもピンとこない人もいるかもしれませんが、単にデータの保管庫（storage）のことです。  \n",
        "  \n",
        "自分のスマホやコンピュータを使う場合、写真や文書は自分のコンピュータ内に保存できます。  \n",
        "  \n",
        "ところが、<b>Google Colab</b>では主体がGoogleのコンピュータなので、「ちょっとデスクトップに保存しておこう」といったことができません。そもそも、<b>Google Colab</b>のデスクトップってドコ？となるわけです。  \n",
        "  \n",
        "もちろんデータが保存できないと不便なので、<b>Google Colab</b>でもちゃんとデータは保存できます。その保管場所を<b>ストレージ</b>と呼んでいます。  \n",
        "  \n",
        "<b>ストレージ</b>は<font color=\"crimson\">下図の赤く囲んだ![アイコン](https://raw.githubusercontent.com/YujiSue/Lecture/master/img/folder.png)をクリック、またはタッチ</font>することでサイドビューに表示されます。  \n",
        "  \n",
        "<img src=\"https://raw.githubusercontent.com/YujiSue/Lecture/master/img/storage.png\" width=\"400\"> <br>  \n"
      ]
    },
    {
      "cell_type": "markdown",
      "metadata": {
        "id": "SeIrbuWJxWWG"
      },
      "source": [
        "---  \n",
        "  \n",
        "開くと<i>sample_data</i>というフォルダがあると思いますが、これはGoogleが初めから用意しているフォルダです。  \n",
        "  \n",
        "<font color=\"crimson\">下図の赤く囲んだ![アイコン](https://raw.githubusercontent.com/YujiSue/Lecture/master/img/upload.png)をクリックまたはタッチしてファイルを選択する</font>と、自分のコンピュータ上のファイルを転送して<b>Google Colab</b>上に追加で保存することができます。  \n",
        "  \n",
        "もちろん<b>転送したファイルは他人からは見えませんし、12時間で勝手に消去される</b>のでセキュリティ面での心配はしなくて大丈夫です。  \n",
        "むしろ何があっても12時間後には強制削除されるので、<b>重要なファイルのバックアップ用途には使わないで</b>ください。  \n",
        "  \n",
        "12時間以降も保存したい場合は[別の方法](https://colab.research.google.com/notebooks/io.ipynb?hl=ja#scrollTo=u22w3BFiOveA)が必要になりますが、ここでは割愛します。  \n",
        "\n",
        " <img src=\"https://raw.githubusercontent.com/YujiSue/Lecture/master/img/storage2.png\" width=\"400\">  \n",
        "  \n"
      ]
    },
    {
      "cell_type": "markdown",
      "metadata": {
        "id": "lYnoFmuvuaY_"
      },
      "source": [
        "<a name=\"save-book\"></a>\n",
        "## 5. ノートブックを保存する\n",
        "  \n"
      ]
    },
    {
      "cell_type": "markdown",
      "metadata": {
        "id": "Uk9DzhGXeWtw"
      },
      "source": [
        "講義の視聴や課題の遂行を一時中断して後日再開する場合、<b>\n",
        "ノートも進行に合わせて保存しておく必要があります</b>。  \n",
        "こちらも初めてノートを開いた時と、２回目以降で方法が違いますので、ご注意ください。"
      ]
    },
    {
      "cell_type": "markdown",
      "metadata": {
        "id": "pWRCsP-QvLHc"
      },
      "source": [
        "### <u>初めて開いたノートの場合</u>  \n",
        "  \n",
        "下図のように、サブメニュー中央の<u><b>【ドライブにコピー】</b></u>をクリックまたはタッチして、ノートブックのコピーを保存する([*4](#note04))。  \n",
        "<img src=\"https://raw.githubusercontent.com/YujiSue/Lecture/master/img/drive_copy.png\"> \n",
        "\n",
        "\n",
        "  "
      ]
    },
    {
      "cell_type": "markdown",
      "metadata": {
        "id": "J1madIMVdVl4"
      },
      "source": [
        "<a name=\"note04\"></a>\n",
        "*4 講義で提示するノートブックのリンクアドレスは、私の作成したノートの原本を参照するリンクです。  \n",
        "学生の皆さんは、このノートの中身を<b>直接は編集できません</b>。編集しようとしても<b>「権限がない」旨を伝える警告</b>が出ます。    \n",
        "そのため講義で使用するには、各自で１度ノートのコピーを作成していただく必要があります。  \n",
        "この際に<font color=\"crimson\">GoogleDrive内に最大で2, 3MB程度の容量を使用</font>してコピーが作成されます。  \n",
        "講義の課題提出後に削除するのは構いませんが、課題作成中はコピーを保持する必要がある点を、ご了承ください。  \n",
        "GoogleDriveについての説明は[こちら](https://support.google.com/drive/answer/2424384?hl=ja)を参照してください。\n",
        "    \n",
        "> なお、これも当然ですが<b>GoogleDrive内のファイルに勝手にアクセスする、または害を与えるようなプログラムは、講義ノートに含まれていない</b>ことを明記しておきます。"
      ]
    },
    {
      "cell_type": "markdown",
      "metadata": {
        "id": "sCqLWQS3d0Ec"
      },
      "source": [
        "### <u>２回目以降に開いたノートの場合</u>  \n"
      ]
    },
    {
      "cell_type": "markdown",
      "metadata": {
        "id": "TaL3c1WNfM-1"
      },
      "source": [
        "  \n",
        "下図のように、上段メニューバーの<b><u>【ファイル】</b></u>から<b><u>【保存】</b></u>を選ぶ。  \n",
        "   \n",
        "<img src=\"https://raw.githubusercontent.com/YujiSue/Lecture/master/img/save-book.png\" width=\"400\"> "
      ]
    },
    {
      "cell_type": "markdown",
      "metadata": {
        "id": "WzmEOzoNU5q_"
      },
      "source": [
        "# その他の使用方法"
      ]
    },
    {
      "cell_type": "markdown",
      "metadata": {
        "id": "PencrnooDrWp"
      },
      "source": [
        "## 文章の表示について"
      ]
    },
    {
      "cell_type": "markdown",
      "metadata": {
        "id": "8_PrKrxsD3ZC"
      },
      "source": [
        "この<font color=\"darkred\">テキストセル</font>のタイトル「文章の表示について」もそうですが、文章の左端に▼や▶が表示されている場合、その項目の内容を表示/非表示にすることができます。  \n",
        "  \n",
        "▼を押すと内容が隠れます。  \n",
        "▶を押すと内容が表示されます。  \n",
        "  \n",
        "画面に映る文章量が多くて見づらい場合は、表示/非表示を切り替えて表示項目を減らすことで、分かりやすくなる場合があります。"
      ]
    },
    {
      "cell_type": "markdown",
      "metadata": {
        "id": "hEKrr1HwDm5z"
      },
      "source": [
        "## 目次の使い方"
      ]
    },
    {
      "cell_type": "markdown",
      "metadata": {
        "id": "zHjndhElDqAv"
      },
      "source": [
        "サイドビューの目次内にある文章をクリックまたはタッチすると、その項目の表示画面に飛びます。  \n",
        "特定の項目だけ読みたいときなどに利用してください。"
      ]
    },
    {
      "cell_type": "markdown",
      "metadata": {
        "id": "WMKcddPfkAxV"
      },
      "source": [
        "<a name=\"invis-menu\"></a>\n",
        "## メニューバーの表示について"
      ]
    },
    {
      "cell_type": "markdown",
      "metadata": {
        "id": "U0P3ahwvAihy"
      },
      "source": [
        "画面右上サブメニュー内の![表示](https://raw.githubusercontent.com/YujiSue/Lecture/master/img/arrow_down.png) ![非表示](https://raw.githubusercontent.com/YujiSue/Lecture/master/img/arrow_up.png)をクリック\n",
        "またはタッチすることで、メニューバーの表示/非表示が切り替わります。  \n",
        "  \n",
        "* メニューバー表示  \n",
        "\n",
        "<img src=\"https://raw.githubusercontent.com/YujiSue/Lecture/master/img/undisp_mb.png\" width=\"640\"> \n",
        "  \n",
        "<br>\n",
        "  \n",
        "* メニューバー非表示  \n",
        "  \n",
        "<img src=\"https://raw.githubusercontent.com/YujiSue/Lecture/master/img/disp_mb.png\" width=\"640\"> \n"
      ]
    },
    {
      "cell_type": "markdown",
      "metadata": {
        "id": "UVc8vootwF0K"
      },
      "source": [
        "<a name=\"invis-side\"></a>\n",
        "## サイドビューの表示について"
      ]
    },
    {
      "cell_type": "markdown",
      "metadata": {
        "id": "E0S_Bna7Alw9"
      },
      "source": [
        "画面左上にある![アイコン](https://raw.githubusercontent.com/YujiSue/Lecture/master/img/list.png)をクリックまたはタッチすると、サイドビューに目次が表示されます。  \n",
        "閉じるときは![アイコン](https://raw.githubusercontent.com/YujiSue/Lecture/master/img/close.png)をクリックまたはタッチします。  \n",
        "  \n",
        "* 表示モード  \n",
        "  \n",
        "<img src=\"https://raw.githubusercontent.com/YujiSue/Lecture/master/img/disp_side.png\" height=\"300\"> \n",
        "  \n",
        "<br>\n",
        "  \n",
        "* 非表示モード  \n",
        "  \n",
        "<img src=\"https://raw.githubusercontent.com/YujiSue/Lecture/master/img/undisp_side.png\" height=\"300\"> "
      ]
    },
    {
      "cell_type": "markdown",
      "metadata": {
        "id": "SHiC0zOWNPtw"
      },
      "source": [
        "<a name=\"session\"></a>\n",
        "## サブメニューの表記について"
      ]
    },
    {
      "cell_type": "markdown",
      "metadata": {
        "id": "Gi758nANApnY"
      },
      "source": [
        "サブメニューの右端部分は、状態に応じて以下のように表記のバリエーションがあります。  \n",
        "1. Colabにアクセスしたばかりのとき  \n",
        "  \n",
        "<img src=\"https://raw.githubusercontent.com/YujiSue/Lecture/master/img/unsession.png\" height=\"30\">  \n",
        "  \n",
        "<br>\n",
        "  \n",
        "2. Colabのセットアップ中  \n",
        "  \n",
        "<img src=\"https://raw.githubusercontent.com/YujiSue/Lecture/master/img/connect1.png\" height=\"30\"> <img src=\"https://raw.githubusercontent.com/YujiSue/Lecture/master/img/connect2.png\" height=\"30\">  \n",
        "  \n",
        "<br>\n",
        "  \n",
        "3. Colabのセットアップが完了した状態  \n",
        "  \n",
        "<img src=\"https://raw.githubusercontent.com/YujiSue/Lecture/master/img/connected.png\" height=\"30\">  \n",
        "  \n",
        "<br>\n",
        "  \n",
        "4. 一度セットアップが完了したが、しばらく何も操作せず放置した場合  \n",
        "  \n",
        "<img src=\"https://raw.githubusercontent.com/YujiSue/Lecture/master/img/resession.png\" height=\"30\">  \n",
        "  \n",
        "  \n",
        "---\n",
        "ノートブックを読むだけなら、どの状態でも問題ありません。 \n",
        "  \n",
        "また、<b>Python</b>プログラムを１度でも実行すると、長くても２\n",
        "-３分待てば最終的に<b>３番</b>の表記になります。  \n",
        "  \n",
        "<b>もし５分以上待っても３番の表記にならない場合は、事前に提示した担当教員宛に連絡をください</b>。"
      ]
    },
    {
      "cell_type": "markdown",
      "metadata": {
        "id": "ZN06d5Elz9S-"
      },
      "source": [
        "# おわりに\n",
        "少し長くなってしまいました。  \n",
        "\n",
        "慣れない人には分かりにくい部分もあったかと思います。  \n",
        "講義のときにあらためて順を追って一緒に実演していきますので、ここで分からなくても心配する必要はありません。  \n",
        "  \n",
        "逆に内容を理解してプログラミングに興味がわいた、Pythonについて詳しく知りたいという人は、[公式サイト](https://docs.python.org/ja/3/tutorial/index.html)や[Chainerによるチュートリアル](https://colab.research.google.com/github/chainer/tutorials/blob/master/ja/02_Basics_of_Python.ipynb)なども参照してみてください。  \n",
        "  \n",
        "それでは講義でお会いしましょう。"
      ]
    }
  ]
}