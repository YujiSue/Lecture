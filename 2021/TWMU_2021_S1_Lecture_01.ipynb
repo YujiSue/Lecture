{
  "nbformat": 4,
  "nbformat_minor": 0,
  "metadata": {
    "colab": {
      "name": "TWMU_2020_S1_Lecture-01.ipynb",
      "provenance": [],
      "collapsed_sections": [],
      "include_colab_link": true
    },
    "kernelspec": {
      "name": "python3",
      "display_name": "Python 3"
    }
  },
  "cells": [
    {
      "cell_type": "markdown",
      "metadata": {
        "id": "view-in-github",
        "colab_type": "text"
      },
      "source": [
        "<a href=\"https://colab.research.google.com/github/YujiSue/Lecture/blob/master/TWMU_2020_S1_Lecture_01.ipynb\" target=\"_parent\"><img src=\"https://colab.research.google.com/assets/colab-badge.svg\" alt=\"Open In Colab\"/></a>"
      ]
    },
    {
      "cell_type": "markdown",
      "metadata": {
        "id": "fC-lfRPyOpAz",
        "colab_type": "text"
      },
      "source": [
        "# Pythonプログラミング実践編\n",
        "- いよいよ実際にプログラミングです  \n",
        "- 基本的には文法の説明も含めてサンプルコードを提示します\n",
        "- サンプルを見ながら、Pythonという言語に触れていきましょう  \n"
      ]
    },
    {
      "cell_type": "markdown",
      "metadata": {
        "id": "FT11oVcTuWGn",
        "colab_type": "text"
      },
      "source": [
        "## 1-1．簡易版カルテ【オブジェクト】を作成する  \n",
        "\n"
      ]
    },
    {
      "cell_type": "markdown",
      "metadata": {
        "id": "UwJQIoFfCfU7",
        "colab_type": "text"
      },
      "source": [
        "Pythonで<font color=\"#FFA0A0\">【オブジェクト】</font>を作るには  \n",
        "\n",
        "```\n",
        "class オブジェクトの名前:\n",
        "```\n",
        "という形式で書きます。  \n",
        "試しに<font color=\"#70A0FF\">「簡易カルテ」</font>という名前で<font color=\"#FFA0A0\">【オブジェクト】</font>を作ると下のようになります。\n",
        "\n",
        "```\n",
        "class 簡易カルテ:\n",
        "```"
      ]
    },
    {
      "cell_type": "markdown",
      "metadata": {
        "id": "6coNMghXuhDQ",
        "colab_type": "text"
      },
      "source": [
        "※ <font color=\"#FFA0A0\">【オブジェクト】</font>に限った話ではないのですが、基本的にPythonでは**半角英数字**を使います  "
      ]
    },
    {
      "cell_type": "markdown",
      "metadata": {
        "id": "XPnC5UGZuq0d",
        "colab_type": "text"
      },
      "source": [
        "## 1-2.   「簡易カルテ」に機能を付与\n",
        "\n",
        "\n"
      ]
    },
    {
      "cell_type": "markdown",
      "metadata": {
        "id": "UPwJmpkbuw5l",
        "colab_type": "text"
      },
      "source": [
        "さて、<font color=\"#70A0FF\">「簡易カルテ」</font>という名前の<font color=\"#FFA0A0\">【オブジェクト】</font>が出来たので、続けてカルテとしての<font color=\"#70A0FF\">「機能」</font>を追加していきます  \n",
        "カルテに欲しい機能は以下の通りでした  \n",
        "<fieldset>   \n",
        "(1)　患者のIDや氏名など基本情報を記録しておく<br>\n",
        "(2)　患者の基本情報を記入できる<br>\n",
        "(3)　診療情報を追加できる<br>\n",
        "(4)　見たいページを閲覧できる<br>\n",
        "</fieldset>"
      ]
    },
    {
      "cell_type": "markdown",
      "metadata": {
        "id": "CEwQDQLGuxl_",
        "colab_type": "text"
      },
      "source": [
        "ちなみに、<font color=\"#FFA0A0\">【オブジェクト】</font>に追加する<font color=\"#70A0FF\">「機能」</font>のことを、プログラミングでは<font color=\"#FFA0A0\">【関数】</font>と呼びます  "
      ]
    },
    {
      "cell_type": "markdown",
      "metadata": {
        "id": "jiGg293Au3he",
        "colab_type": "text"
      },
      "source": [
        "Pythonでは<font color=\"#FFA0A0\">【オブジェクト】</font>に<font color=\"#FFA0A0\">【関数】</font>を追加する場合\n",
        "\n",
        "```\n",
        "class オブジェクト名:\n",
        "  def 関数名(引数):\n",
        "```\n",
        "のように書きます。\n",
        "このとき注意すべきは２点あります。  \n",
        "1. <font color=\"#A0FFA0\">\"def\"</font>の前に空白（半角スペース２つか４つ）を入れる  \n",
        "2. 関数名のあとに<font color=\"#FFA0A0\">【引数】</font>がつく  \n",
        "  \n",
        "<font color=\"#FFA0A0\">【引数】</font>ってなに？という話は具体例を出しながら説明します。"
      ]
    },
    {
      "cell_type": "markdown",
      "metadata": {
        "id": "BhsMNXIfHiXl",
        "colab_type": "text"
      },
      "source": [
        "### 1-2-1. 「カルテの機能 (1)」 を 「Pythonの関数へ」"
      ]
    },
    {
      "cell_type": "markdown",
      "metadata": {
        "id": "Kre0oIKtHnLp",
        "colab_type": "text"
      },
      "source": [
        "カルテは、<font color=\"#70A0FF\">「初期状態」</font>で患者の基本情報が記録可能になっているべきです。  \n",
        "この<font color=\"#FFA0A0\">【オブジェクト】</font>の<font color=\"#70A0FF\">「初期状態」</font>を作りだす<font color=\"#FFA0A0\">【関数】</font>は特別で、 <font color=\"#A0FFA0\">\"\\_\\_init__\"</font>という名前をつけて表記しなくてはいけません。  \n",
        "実際のコードは以下のようになります。\n",
        "\n",
        "```\n",
        "  def __init__(self):\n",
        "    self.患者ID = None\n",
        "    self.患者氏名 = None\n",
        "    self.患者生年月日 = None\n",
        "    self.診療データリスト = []\n",
        "```\n",
        "<font color=\"#A0FFA0\">\"\\_\\_init__\"</font>の後ろの ( ) の中にある <font color=\"#A0FFA0\">\"self\"</font>が<font color=\"#FFA0A0\">【引数】</font>です。  \n",
        "ここでは、カルテ本体を意味します。  \n",
        "これだけだとまだ<font color=\"#FFA0A0\">【引数】</font>が何か良く分からないと思いますが、英語のBe動詞みたいなものとして話を進めましょう。    "
      ]
    },
    {
      "cell_type": "markdown",
      "metadata": {
        "id": "fY7zUla8Hf-1",
        "colab_type": "text"
      },
      "source": [
        "### 補足：変数について"
      ]
    },
    {
      "cell_type": "markdown",
      "metadata": {
        "id": "eYeGFLotu-zY",
        "colab_type": "text"
      },
      "source": [
        "<font color=\"#A0FFA0\">\"\\_\\_init__\"</font>の次の行は　　\n",
        "```\n",
        "    self.患者ID = None\n",
        "```\n",
        "となっています。  \n",
        "※先頭にさらに空白が空いている点に注意してください。  \n",
        "  \n",
        "カルテに必要な基本情報の１つ、患者さんのIDを表すわけですが、  \n",
        "このように<font color=\"#FFA0A0\">【オブジェクト】</font>に必要な項目を設定する場合\n",
        "```\n",
        "    self.項目名 = 情報\n",
        "```\n",
        "という形式で表記します。  \n",
        "実際にカルテに記入する患者さんの情報は、まだこの段階では不明なので、とりあえず<font color=\"#A0FFA0\">\"None(未定)\"</font>を設定しています。  \n",
        "この<font color=\"#A0FFA0\">\"=\"</font>の左側を<font color=\"#FFA0A0\">【変数】</font>、右側を<font color=\"#FFA0A0\">【値】</font>と呼びます。  \n",
        "なので、上の形式はより一般的には  \n",
        "\n",
        "```\n",
        "    変数名 = 実際の値\n",
        "```\n",
        "という表記になります。  \n"
      ]
    },
    {
      "cell_type": "markdown",
      "metadata": {
        "id": "qUc1iCylDVYI",
        "colab_type": "text"
      },
      "source": [
        "### 補足：変数に設定できるもの"
      ]
    },
    {
      "cell_type": "markdown",
      "metadata": {
        "id": "ADIb6PtYyg2R",
        "colab_type": "text"
      },
      "source": [
        "<font color=\"#FFA0A0\">【変数】</font>という言葉は数学で馴染みがあることでしょう。  \n",
        "何にでも『変』</font>われる『数』</font>のことですね。  \n",
        "患者さんのIDは１人１人別のものが割り振られるので、どんなIDでも設定できる状態にしておかないと<font color=\"#70A0FF\">「カルテ」</font>として機能しません。  \n",
        "なので、こうした患者さんの基本情報はすべて<font color=\"#FFA0A0\">【変数】</font>としてカルテに追加しておくわけです。  \n",
        "  \n",
        "ちなみに、気づいた人もいるかもしれませんが、『氏名』とかあからさまに『数』</font>でないものも<font color=\"#FFA0A0\">【変数】</font>と呼びます。  \n",
        "コンピュータの世界では、『数値』も『文字・文章』も『写真』も『音楽』も、ぜーんぶ<font color=\"#FFA0A0\">【変数】</font>に設定できます。  \n",
        "ちなみに、この<font color=\"#FFA0A0\">【変数】</font>に値を設定することを<font color=\"#FFA0A0\">【代入】</font>と言います。  \n",
        "  \n",
        "ところで、<font color=\"#A0FFA0\">\"\\_\\_init__\"</font>の関数の最後に\n",
        "```\n",
        "    self.診療データリスト = []\n",
        "```\n",
        "というのが出てきます。  \n",
        "  \n",
        "診療データは、患者さんが診察を受ければ受けるほど増えます。  \n",
        "全部でどのくらいになるかは人それぞれなので、とりあえず「診療データ」がたくさん入る空っぽの『容れ物（コンテナ）』を用意します。  \n",
        "この空っぽの『容れ物』を、Pythonでは<font color=\"#A0FFA0\">\"[]\"</font>と表します。  \n",
        "プログラム界隈では、こうした『容れ物』に中身を詰め込んだものを<font color=\"#FFA0A0\">【配列】</font>と言います。  \n",
        "空っぽの<font color=\"#FFA0A0\">【配列】</font>を<font color=\"#70A0FF\">「診療データリスト」</font>という<font color=\"#FFA0A0\">【変数】</font>に設定したのが、上のコードというわけです。  \n",
        "これからこの<font color=\"#70A0FF\">「カルテ」</font>に<font color=\"#70A0FF\">「診療データ」</font>が挿入されていくと、ちゃんとした<font color=\"#70A0FF\">「診療データ」</font>の<font color=\"#FFA0A0\">【配列】</font>になるのです。"
      ]
    },
    {
      "cell_type": "markdown",
      "metadata": {
        "id": "V8TD99rUM-oZ",
        "colab_type": "text"
      },
      "source": [
        "### 1-2-2. 「カルテの機能 (2)」 を 「Pythonの関数へ」"
      ]
    },
    {
      "cell_type": "markdown",
      "metadata": {
        "id": "8kHNSBBgNpiH",
        "colab_type": "text"
      },
      "source": [
        "続いて、患者の基本情報を記入できるようにしましょう。\n",
        "今度は【関数】の名前を好きに決められるので、下のようにしてみます。\n",
        "\n",
        "```\n",
        "  def 記入(self, ID, 名前, 生年月日):\n",
        "    self.患者ID = ID\n",
        "    self.患者氏名 = 名前\n",
        "    self.患者生年月日 = 生年月日\n",
        "```\n",
        "\n",
        "<font color=\"#A0FFA0\">\"記入\"</font>の後ろの ( ) の中に <font color=\"#A0FFA0\">\"self\"</font>以外の<font color=\"#FFA0A0\">【引数】</font>が追加されています。  \n",
        "<font color=\"#A0FFA0\">\"self\"</font>は、相変わらずカルテ本体を意味します。  \n",
        "その後ろに続いているのは、患者さんが記入しようとしている『ID』『氏名』『生年月日』の情報を<font color=\"#70A0FF\">「受け取る」</font>ことを意味します。  \n",
        "この受け取った情報をもとに、上の<font color=\"#70A0FF\">「初期状態」</font>で設定した<font color=\"#A0FFA0\">\"None\"</font>の代わりに、カルテの<font color=\"#FFA0A0\">【変数】</font>である\"self.～\"に患者さんの実情報を設定しているわけです。  \n"
      ]
    },
    {
      "cell_type": "markdown",
      "metadata": {
        "id": "jMkHWYQQP8bT",
        "colab_type": "text"
      },
      "source": [
        "### 1-2-3. 「カルテの機能 (3)」 を 「Pythonの関数へ」"
      ]
    },
    {
      "cell_type": "markdown",
      "metadata": {
        "id": "gcIOBaTEP-Jm",
        "colab_type": "text"
      },
      "source": [
        "今度は患者の診療データを追加できるようにしましょう。\n",
        "はい、こんな感じです。\n",
        "\n",
        "```\n",
        "  def データ追加(self, データ):\n",
        "    self.診療データリスト.append(データ)\n",
        "```\n",
        "どんどん短くなってきたので、さくっと解説しましょう。  \n",
        "今回<font color=\"#A0FFA0\">\"self\"</font>の後ろに続いているのは、医師が作成した患者さんのデータを意味します。  \n",
        "受け取ったデータは、\"\\_\\_init__\"関数で準備しておいた<font color=\"#70A0FF\">「診療データリスト」</font>の<font color=\"#FFA0A0\">【配列】</font>に追加していきます。  \n",
        "Pythonでは<font color=\"#FFA0A0\">【配列】</font>の<font color=\"#FFA0A0\">【変数】</font>に中身（<font color=\"#FFA0A0\">【要素】</font>といいます）を追加する場合、\n",
        "```\n",
        "変数名.append(要素名)\n",
        "```\n",
        "のように表記します。  \n",
        "この<font color=\"#A0FFA0\">\"append\"</font>は、実はPythonに元から備わっている<font color=\"#FFA0A0\">【関数】</font>です。  \n",
        "上のコードは、<font color=\"#A0FFA0\">\".\"</font>で繋ぐことにより<font color=\"#FFA0A0\">【配列】</font>に対して、追加したい<font color=\"#FFA0A0\">【要素】</font>を<font color=\"#FFA0A0\">【引数】</font>として<font color=\"#A0FFA0\">\"append\"</font>という<font color=\"#FFA0A0\">【関数】</font>を呼び出す、と言い換えることができます。\n",
        "専門用語のオンパレードになっているので、何が何やらと思うかもしれませんが、上のコードと何度か見比べていると段々言いたいことが分かるようになります。\n",
        "ひとまず、<font color=\"#A0FFA0\">\"append\"</font>を使って上のように書けば<font color=\"#FFA0A0\">【配列】</font>に<font color=\"#FFA0A0\">【要素】</font>が追加できると思っておいてください。"
      ]
    },
    {
      "cell_type": "markdown",
      "metadata": {
        "id": "finOXnKcTfHQ",
        "colab_type": "text"
      },
      "source": [
        "### 1-2-4. 「カルテの機能 (4)」 を 「Pythonの関数へ」"
      ]
    },
    {
      "cell_type": "markdown",
      "metadata": {
        "id": "Ur9KzqsDUlCt",
        "colab_type": "text"
      },
      "source": [
        "<font color=\"#70A0FF\">「カルテ」</font>の最後です。  \n",
        "カルテの内容を表示させましょう。  \n",
        "サンプルはこうです。  \n",
        "```\n",
        "  def 表示(self, ページ):\n",
        "    if (ページ == 1):\n",
        "    　print('ID:',self.患者ID)\n",
        "      print('氏名:',self.患者氏名)\n",
        "      print('生年月日:',self.患者生年月日)\n",
        "\n",
        "```\n",
        "またいくつか新しい要素を出しますが、順番に見ていきます。\n",
        "今回<font color=\"#A0FFA0\">\"self\"</font>の後ろにあるのは、表示したいページを意味します。  \n",
        "このとき、もし１ページ目を指定されたら患者の基本情報を表示するとしましょう。  \n",
        "  \n",
        "もし～ならば、をPythonで書く場合  \n",
        "```\n",
        "if (条件式):\n",
        "```\n",
        "となります。  \n",
        "<font color=\"#FFA0A0\">【条件式】</font>というのは、そのまま<font color=\"#70A0FF\">「ある条件を満たすとき」</font>を数式にしたものです。  \n",
        "今回は、<font color=\"#70A0FF\">「指定されたページが１ならば」</font>となります。  \n",
        "Pythonでは、<font color=\"#A0FFA0\">\"ページ = 1\"</font>と書くと、ページ<font color=\"#FFA0A0\">【変数】</font>に１を<font color=\"#FFA0A0\">【代入】</font>する、の意味になってしまうので、  \n",
        "<font color=\"#70A0FF\">「２つの値が等しいならば」</font>を表現するときは、<font color=\"#A0FFA0\">\"==\"</font>でつなぐ決まりになっています。  \n"
      ]
    },
    {
      "cell_type": "markdown",
      "metadata": {
        "id": "L-QGmZVjZqb_",
        "colab_type": "text"
      },
      "source": [
        "### 補足：プリントと文字の表記について"
      ]
    },
    {
      "cell_type": "markdown",
      "metadata": {
        "id": "1X8s0iQaZw5Z",
        "colab_type": "text"
      },
      "source": [
        "Pythonでは、画面にデータを表示する場合  \n",
        "```\n",
        "print(表示内容,表示内容２...)\n",
        "```\n",
        "と書きます。  \n",
        "  \n",
        "ちなみにPythonでは<font color=\"#FFA0A0\">【変数】</font>や数値はそのまま書いて、文章（文字）を扱う場合は<font color=\"#A0FFA0\">\"''（引用符）\"</font>で括る必要があります。  \n",
        "  \n",
        "例えば<font color=\"#70A0FF\">「100+1匹の犬」</font>と言ったとき、そのまま<font color=\"#70A0FF\">「100+1匹の犬」</font>という文章として解釈するべきか、数値として計算して<font color=\"#70A0FF\">「101匹の犬」</font>としてよいのか、コンピュータは判断が出来ません。  \n",
        "文章として認識して欲しいなら  \n",
        "```\n",
        "print('100+1匹の犬')\n",
        "```\n",
        "途中で計算させたければ  \n",
        "```\n",
        "print(100+1,'匹の犬')\n",
        "```\n",
        "のようにします。\n",
        "試しに下のボックスの左端にある▶ボタンを押してみましょう。\n"
      ]
    },
    {
      "cell_type": "code",
      "metadata": {
        "id": "w46njRVYcOpj",
        "colab_type": "code",
        "colab": {}
      },
      "source": [
        "print('100+1匹の犬')\n",
        "print(100+1,'匹の犬')"
      ],
      "execution_count": 0,
      "outputs": []
    },
    {
      "cell_type": "markdown",
      "metadata": {
        "id": "rwNXdu0ccu8d",
        "colab_type": "text"
      },
      "source": [
        "##1-3. 「簡易カルテ」をつかってみる\n",
        "以上をまとめると<font color=\"#70A0FF\">「カルテ」の</font><font color=\"#FFA0A0\">【オブジェクト】</font>はこんな風になります。"
      ]
    },
    {
      "cell_type": "code",
      "metadata": {
        "id": "_aR28x2D6OFi",
        "colab_type": "code",
        "colab": {}
      },
      "source": [
        "# 「カルテ」のコードです。\n",
        "# ちなみにこの\"#\"以降の文は【コメント】と呼ばれ、\n",
        "# プログラム的には無視される部分です。\n",
        "# メモしたいことなど、好きなことを書いてかまいません。\n",
        "\n",
        "###############　カルテ【オブジェクト】の作成　##################\n",
        "class 簡易カルテ:\n",
        "  # 初期状態の設定\n",
        "  def __init__(self):\n",
        "    # 変数の設定\n",
        "    self.患者ID = None\n",
        "    self.患者氏名 = None\n",
        "    self.患者生年月日 = None\n",
        "    self.診療データリスト = []\n",
        "\n",
        "  # 患者の情報を記入する関数\n",
        "  def 記入(self, ID, 名前, 生年月日):\n",
        "    self.患者ID = ID\n",
        "    self.患者氏名 = 名前\n",
        "    self.患者生年月日 = 生年月日\n",
        "  \n",
        "  # 診療データを追加する関数\n",
        "  def データ追加(self, データ):\n",
        "    self.診療データリスト.append(データ)\n",
        "\n",
        "  # 指定のページを表示する関数\n",
        "  def 表示(self, ページ):\n",
        "    if (ページ == 1):\n",
        "      print('ID:　',self.患者ID)\n",
        "      print('氏名:　',self.患者氏名)\n",
        "      print('生年月日:　',self.患者生年月日)\n",
        "\n",
        "###############################################################\n"
      ],
      "execution_count": 0,
      "outputs": []
    },
    {
      "cell_type": "markdown",
      "metadata": {
        "id": "npCTT3cUdEc6",
        "colab_type": "text"
      },
      "source": [
        "試しにこのカルテ、ちょっと使ってみましょう。  \n",
        "まずは上のボックスの▶ボタンを押してみてください。  \n",
        "まだ何もおきませんね。  \n",
        "次に、下のボックスを見て、情報を記入したうえで▶ボタンを押してみてください。"
      ]
    },
    {
      "cell_type": "code",
      "metadata": {
        "id": "0Q5evEzROAiD",
        "colab_type": "code",
        "colab": {}
      },
      "source": [
        "#「わたしのカルテ」という変数に、新しいカルテ【オブジェクト】を代入します。\n",
        "#【オブジェクト】を変数に入れる場合は後ろに\"()\"をつけます。\n",
        "私のカルテ = 簡易カルテ() \n",
        "\n",
        "# 以下はフォームというちょっと特殊な機能を使用します。\n",
        "# 右隣に何やら入力画面が現れていると思います。\n",
        "# 試しに適当な名前や番号、生年月日を入力してみてください。\n",
        "# 実在の情報でなくてかまいません。\n",
        "\n",
        "#@markdown ###私のカルテ\n",
        "学籍番号 =  12345#@param\n",
        "名前 = '女子医花子' #@param {type:\"string\"}\n",
        "生年月日 = '1900-01-01' #@param {type:\"date\"}\n",
        "\n",
        "# 入力したデータを、「私のカルテ」に「記入」します\n",
        "# 用意した変数を【引数】にして、「記入」【関数】を使用\n",
        "私のカルテ.記入(学籍番号, 名前, 生年月日)\n",
        "\n",
        "# これで「私のカルテ」に、基本情報が入ったはずなので\n",
        "# 1ページ目を表示させる\n",
        "私のカルテ.表示(1)\n"
      ],
      "execution_count": 0,
      "outputs": []
    },
    {
      "cell_type": "markdown",
      "metadata": {
        "id": "juvtI66ofCGi",
        "colab_type": "text"
      },
      "source": [
        "下段に何か表示されましたね？\n",
        "とてもシンプルな表示ですが、<font color=\"#70A0FF\">「私のカルテ」</font>に情報が書き込まれて、後から表示できるようになりました。  \n",
        "しょぼい！と思った人、これも立派な電子カルテシステムの最初の１歩です。\n"
      ]
    },
    {
      "cell_type": "markdown",
      "metadata": {
        "id": "THS5SR13f6rg",
        "colab_type": "text"
      },
      "source": [
        "## 2-1．診療データ【オブジェクト】を作成する  \n",
        "\n"
      ]
    },
    {
      "cell_type": "markdown",
      "metadata": {
        "id": "DFhaY_0dgpgh",
        "colab_type": "text"
      },
      "source": [
        "もう１つ</font><font color=\"#FFA0A0\">【オブジェクト】</font>を作りましょう。  \n",
        "今度は<font color=\"#70A0FF\">「診療データ」</font>の方です。  \n",
        "欲しい機能は以下のようなものでした  \n",
        "<fieldset>   \n",
        "(1)　診療名を記録・記入できる<br>\n",
        "(2)　問診や検査項目を設定・記入できる<br>\n",
        "(3)　診断日を自動で記録<br>\n",
        "(4)　診断・検査などの結果を記録できる<br>\n",
        "(5)　医師の所見などを記録・記入できる<br>\n",
        "\n",
        "</fieldset>\n",
        "\n",
        "なんだかいっぱいありますが、<font color=\"#70A0FF\">「カルテ」</font>の流れと同じようにできます。\n"
      ]
    },
    {
      "cell_type": "markdown",
      "metadata": {
        "id": "zqUW5EwviELF",
        "colab_type": "text"
      },
      "source": [
        "## 2-2.   「診療データ」に機能を付与"
      ]
    },
    {
      "cell_type": "markdown",
      "metadata": {
        "id": "PMUatyqEiJQv",
        "colab_type": "text"
      },
      "source": [
        "### 2-2-1. オブジェクトの作成と「初期状態」の設定\n",
        "\n",
        "サンプルはこんな感じです。\n",
        "\n",
        "```\n",
        "import datetime\n",
        "\n",
        "class 診療データ:\n",
        "  def __init__(self):\n",
        "    self.診療名 = ''\n",
        "    self.診療日 = datetime.date.today()\n",
        "    self.診療項目 = []\n",
        "    self.診療結果 = {}\n",
        "    self.医師の所見 = ''\n",
        "```\n",
        "唐突に先頭に<font color=\"#A0FFA0\">\"import\"</font>なる文が現れました。  \n",
        "これは、<font color=\"#70A0FF\">「日付」</font>を扱うために必要な関数やオブジェクトをまとめた、<font color=\"#A0FFA0\">\"datetime\"</font>という別のPythonプログラムを『読み込む』ことを意味します。  \n",
        "現代のプログラミングでは、誰かが書いたプログラムを使い回すことは常識です（手抜きとは思われません）。  \n",
        "<font color=\"#70A0FF\">「日付」</font>に関連した優秀なPythonプログラムがすでに存在するので、労力節約のためにじゃんじゃん利用します。 \n",
        "   \n",
        "さて、<font color=\"#A0FFA0\">\"\\_\\_init__\"</font>の中身ですが、<font color=\"#70A0FF\">「カルテ」</font>のときと違って今回は\"None\"を使いませんでした。  \n",
        "『診療名』などは文字が入ることがあらかじめ分かっているので、初期状態で０文字の文章を意味する<font color=\"#A0FFA0\">''</font>を<font color=\"#FFA0A0\">【代入】</font>してあります。  \n",
        "診療日については、最初に<font color=\"#A0FFA0\">\"import\"</font>した<font color=\"#A0FFA0\">\"datetime\"</font>の中から、<font color=\"#A0FFA0\">\"date\"</font>というオブジェクトの<font color=\"#A0FFA0\">\"today\"</font>という関数を使用しています。  \n",
        "他人の作ったプログラムでも、<font color=\"#A0FFA0\">\".\"</font>を使って連鎖的に表記することで、必要な関数を使うことができます。  \n"
      ]
    },
    {
      "cell_type": "markdown",
      "metadata": {
        "id": "u55SJf1Vy2Ce",
        "colab_type": "text"
      },
      "source": [
        "### 補足：配列と連想配列\n"
      ]
    },
    {
      "cell_type": "markdown",
      "metadata": {
        "id": "Re3llYPH9r_7",
        "colab_type": "text"
      },
      "source": [
        "上のコードで、診療結果に新しい記号\"{}\"を使いました。  \n",
        "これは、空っぽの<font color=\"#FFA0A0\">【連想配列】</font>というものを意味します。  \n",
        "名前から予想がつくと思いますが、<font color=\"#FFA0A0\">【連想配列】</font>は<font color=\"#FFA0A0\">【配列】</font>の１種です。  \n",
        "  \n",
        "プログラミングで、ただの<font color=\"#FFA0A0\">【配列】</font>と言った場合、同じようなものが、いくつも一方向にきっちり並んだ状態を指します。  \n",
        "たとえば、同じサイズ・色・形の箱が順番に一列にならんでいたら、<font color=\"#70A0FF\">「左から〇番目」</font>の箱をとって、と言えば目的のものが手に入るでしょう。  \n",
        "  \n",
        "これに対して、サイズも色も形もてんでバラバラな箱が、床一面に敷き詰められていたらどうしますか？  \n",
        "「ちょっとソレとって」で欲しいものがピンポイントに見つかるような状況ではありませんね。  \n",
        "しかし、各箱に名札をつけて<font color=\"#70A0FF\">「○○の札」</font>がついた箱を探して、といえばどうでしょう？  \n",
        "『ア行』はあの辺、『サ行』はこの辺、みたいな分類をしておけば、探す手間は格段に省けます。  \n",
        "このように、あらかじめ<font color=\"#70A0FF\">「名札」</font>をつけておおまかに分類しながら詰め込んだ状態を意味するのが<font color=\"#FFA0A0\">【連想配列】</font>です。  \n",
        "ちなみにこの<font color=\"#70A0FF\">「名札」</font>を一般に<font color=\"#FFA0A0\">【キー】</font>と呼びます。  \n",
        "  \n",
        "次の関数を見ながら、<font color=\"#FFA0A0\">【連想配列】</font>とは何なのか具体的に確認していきましょう。"
      ]
    },
    {
      "cell_type": "markdown",
      "metadata": {
        "id": "qLBpefWt1nwB",
        "colab_type": "text"
      },
      "source": [
        "### 2-2-2. 診療データ<font color=\"#FFA0A0\">【オブジェクト】の<font color=\"#FFA0A0\">【関数】を作る\n"
      ]
    },
    {
      "cell_type": "markdown",
      "metadata": {
        "id": "GZANOG801ujK",
        "colab_type": "text"
      },
      "source": [
        "<font color=\"#70A0FF\">「カルテ」</font>でだいぶ基本的な説明はしたので、今回は一気にいきます。\n",
        "\n",
        "```\n",
        "  def 診療情報の記入(self, 内容):\n",
        "    self.診療名 = 内容['名称']\n",
        "    self.診療項目 = 内容['項目']\n",
        "\n",
        "  # 診療結果を記入する関数\n",
        "  def 診療結果の記入(self, 項目, 結果):\n",
        "    self.診療結果[項目] = 結果\n",
        "\n",
        "  # 所見を記入する関数\n",
        "  def 所見の記入(self, 所見):\n",
        "    self.医師の所見 = 所見\n",
        "```\n",
        "\n",
        "今回初出なのは\"[○○]\"という表記です。  \n",
        "  \n",
        "まず<font color=\"#A0FFA0\">\"診療情報の記入\"</font>関数からいきましょう。  \n",
        "<font color=\"#70A0FF\">「カルテ」</font>のときは「氏名」や「生年月日」を１つずつ引数にして</font><font color=\"#FFA0A0\">【代入】</font>しました。  \n",
        "しかし、今回は<font color=\"#FFA0A0\">【引数】</font>が<font color=\"#A0FFA0\">\"内容\"</font>１つしかないのに、<font color=\"#A0FFA0\">\"self.診療名\"</font>と<font color=\"#A0FFA0\">\"self.診療項目\"</font>の２つの<font color=\"#FFA0A0\">【変数】</font>に<font color=\"#FFA0A0\">【代入】</font>しています。  \n",
        "これは<font color=\"#A0FFA0\">\"内容\"</font>という引数が<font color=\"#FFA0A0\">【連想配列】</font>であることに起因します。  \n",
        "  \n",
        "すなわち今回は、<font color=\"#A0FFA0\">\"内容\"</font>という<font color=\"#FFA0A0\">【連想配列】</font>の中の「名称」という<font color=\"#FFA0A0\">【キー】</font>がついたデータを<font color=\"#A0FFA0\">\"self.診療名\"</font>に、<font color=\"#A0FFA0\">\"項目\"</font>という<font color=\"#FFA0A0\">【キー】</font>がついたデータを<font color=\"#A0FFA0\">\"self.診療項目\"</font>に</font><font color=\"#FFA0A0\">【代入】</font>したわけです。"
      ]
    },
    {
      "cell_type": "markdown",
      "metadata": {
        "id": "nWxN5zrq-Uvl",
        "colab_type": "text"
      },
      "source": [
        "### 2-2-3. 追加の関数"
      ]
    },
    {
      "cell_type": "markdown",
      "metadata": {
        "id": "wztGPg3S-YhD",
        "colab_type": "text"
      },
      "source": [
        "ところで、このままだと<font color=\"#70A0FF\">「診療データ」</font>は、画面上に表示しにくいのがお判りでしょうか？  \n",
        "診療項目数が医師によって好きなように設定できるため、<font color=\"#70A0FF\">「カルテ」</font>と違って何をどう<font color=\"#A0FFA0\">\"print\"</font>すればいいのか、決められないのです。  \n",
        "そこで、<font color=\"#70A0FF\">「診療データ」</font>を分かりやすく要約する<font color=\"#FFA0A0\">【関数】</font>を作ります。  \n",
        "最終的にこれを<font color=\"#A0FFA0\">\"print\"</font>すればいいわけです。\n",
        "\n",
        "```\n",
        "  def データのまとめ(self):\n",
        "    データ = '－－－－－－－－－－－－－－－－－－－－－\\n'\n",
        "    データ += '診療：'+self.診療名+'　　診療日：'+self.診療日.strftime('%Y年%m月%d日')+'\\n'\n",
        "    データ += '－－－－－－－－－－－－－－－－－－－－－\\n'\n",
        "    データ += '　診療項目　 結果\\n'\n",
        "    for 項目名 in self.診療項目:\n",
        "      データ += '　　'+項目名+'　　'+self.診療結果[項目名]+'\\n'\n",
        "    データ += '所見：'+self.医師の所見+'\\n'\n",
        "    return データ\n",
        "```\n",
        "\n",
        "やはり長いですが、順番に見ましょう。  \n",
        "「データのまとめ」は、「データ」という<font color=\"#FFA0A0\">【変数】</font>に要約文を代入し、プログラムを実行した相手に<font color=\"#70A0FF\">「返す」</font><font color=\"#FFA0A0\">【関数】</font>です。  \n",
        "最後の <font color=\"#A0FFA0\">\"return\"</font>が<font color=\"#70A0FF\">「返す」</font>を意味します。\n",
        "  \n"
      ]
    },
    {
      "cell_type": "markdown",
      "metadata": {
        "id": "JlxHEBaaAn9U",
        "colab_type": "text"
      },
      "source": [
        "### 補則：文章のあつかい"
      ]
    },
    {
      "cell_type": "markdown",
      "metadata": {
        "id": "XSDVuylXAkYZ",
        "colab_type": "text"
      },
      "source": [
        "コードの２行目では「データ」という<font color=\"#FFA0A0\">【変数】</font>に仕切り用のハイフンが並んだ文章を代入しています。  \n",
        "最後の<font color=\"#A0FFA0\">\"\\n\"</font>は「改行」を意味する文字です。  \n",
        "  \n",
        "３行目以降、「データ」には<font color=\"#A0FFA0\">\"=\"</font>ではなく<font color=\"#A0FFA0\">\"+=\"</font>が続いています。  \n",
        "これは、すでに「データ」に代入された文章に、新たな文章を<font color=\"#70A0FF\">「連結させる」</font>ことを意味します。  \n",
        "たとえば以下のようにすると、\n",
        "```\n",
        "五十音文 = 'あいうえお'\n",
        "五十音文 += 'かきくけこ'\n",
        "```\n",
        "五十音文に、どんどん平仮名が追加されていくわけです。  \n",
        "下のボックスの▶ボタンを押してみると分かると思います。\n",
        "\n",
        "\n",
        "\n",
        "\n",
        "\n"
      ]
    },
    {
      "cell_type": "code",
      "metadata": {
        "id": "zLgolgXjB1CK",
        "colab_type": "code",
        "colab": {}
      },
      "source": [
        "五十音文 = 'あいうえお'\n",
        "print('追加前：', 五十音文)\n",
        "\n",
        "五十音文 += 'かきくけこ'\n",
        "print('追加後：', 五十音文)\n",
        "\n",
        "五十音文 = 'かきくけこ'\n",
        "print('ただの代入：', 五十音文)"
      ],
      "execution_count": 0,
      "outputs": []
    },
    {
      "cell_type": "markdown",
      "metadata": {
        "id": "d7TsLHCACXlq",
        "colab_type": "text"
      },
      "source": [
        "ちなみに３行目の最後になにやら見慣れないものがくっついていますが、  \n",
        "<font color=\"#A0FFA0\">\"strftime\"</font>は、日付データを文章として整形するための関数です。  \n"
      ]
    },
    {
      "cell_type": "markdown",
      "metadata": {
        "id": "UA7-4208Bv4C",
        "colab_type": "text"
      },
      "source": [
        "### 補則：ループ処理\n",
        "  \n",
        "問題は６-７行目です。  \n",
        "これが、今回最後のテーマである<font color=\"#FFA0A0\">【ループ処理】</font>です。  \n",
        "<font color=\"#70A0FF\">「診療項目」</font>は医師が好きに設定できるようにするわけですが、そうすると設定した本人以外は何の項目が入っているのか分かりません。  \n",
        "そこで、<font color=\"#70A0FF\">「診療項目」</font>という<font color=\"#FFA0A0\">【配列】</font>に記録されている<font color=\"#70A0FF\">「各項目」</font>を先頭から順番に呼び出して、中身を確認できるようにする必要があります。  \n",
        "これが<font color=\"#FFA0A0\">【ループ処理】</font>と呼ばれるものです。  \n",
        "\n",
        "本当はいくつか書式がありますが、今回は\n",
        "```\n",
        "for 要素 in 配列名:\n",
        "  <要素を使った処理>\n",
        "```\n",
        "という表記を主に使いました。  \n",
        "こうすると、<font color=\"#FFA0A0\">【配列】</font>の中にあるデータが、先頭から順番に<font color=\"#A0FFA0\">\"要素\"</font>に代入され、何かしらの計算が出来るのです。\n",
        "\n",
        "\n"
      ]
    },
    {
      "cell_type": "markdown",
      "metadata": {
        "id": "BHaFwaj9EEwy",
        "colab_type": "text"
      },
      "source": [
        "## 2-3 診療データを使ってみる"
      ]
    },
    {
      "cell_type": "markdown",
      "metadata": {
        "id": "grDovcsxELc4",
        "colab_type": "text"
      },
      "source": [
        "まずは下のボックスの▶ボタンを押しましょう。"
      ]
    },
    {
      "cell_type": "code",
      "metadata": {
        "id": "UkUdWiA2kM_F",
        "colab_type": "code",
        "colab": {}
      },
      "source": [
        "# 日付を扱う別プログラムを読み込む\n",
        "import datetime\n",
        "\n",
        "###############　診療データ【オブジェクト】の作成　##################\n",
        "class 診療データ:\n",
        "  # 初期状態の設定\n",
        "  def __init__(self):\n",
        "    # 変数の設定\n",
        "    self.診療名 = ''\n",
        "    self.診療日 = datetime.date.today()\n",
        "    self.診療項目 = []\n",
        "    self.診療結果 = {}\n",
        "    self.医師の所見 = ''\n",
        "  \n",
        "  # 診療情報を記入する関数\n",
        "  def 診療情報の記入(self, 内容):\n",
        "    self.診療名 = 内容['名称']\n",
        "    self.診療項目 = 内容['項目']\n",
        "\n",
        "  # 診療結果を記入する関数\n",
        "  def 診療結果の記入(self, 項目, 結果):\n",
        "    self.診療結果[項目] = 結果\n",
        "\n",
        "  # 所見を記入する関数\n",
        "  def 所見の記入(self, 所見):\n",
        "    self.医師の所見 = 所見\n",
        "\n",
        "  # 要約する関数\n",
        "  def データのまとめ(self):\n",
        "    データ = '－－－－－－－－－－－－－－－－－－－－－\\n'\n",
        "    データ += '診療：'+self.診療名+'　　診療日：'+self.診療日.strftime('%Y年%m月%d日')+'\\n'\n",
        "    データ += '－－－－－－－－－－－－－－－－－－－－－\\n'\n",
        "    データ += '　診療項目　 結果\\n'\n",
        "    for 項目名 in self.診療項目:\n",
        "      データ += '　　'+項目名+'　　'+self.診療結果[項目名]+'\\n'\n",
        "    データ += '所見：'+self.医師の所見+'\\n'\n",
        "    return データ\n",
        "\n",
        "###################################################################"
      ],
      "execution_count": 0,
      "outputs": []
    },
    {
      "cell_type": "markdown",
      "metadata": {
        "id": "gu9cBnKWEWkE",
        "colab_type": "text"
      },
      "source": [
        "続いて、下のボックスを見ながら、適宜データを自分の好きなように改変して▶ボタンを押してみましょう。"
      ]
    },
    {
      "cell_type": "code",
      "metadata": {
        "id": "KS-p7XDnkxGD",
        "colab_type": "code",
        "colab": {}
      },
      "source": [
        "健康診断データ = 診療データ()\n",
        "健康診断データ.診療情報の記入({ '名称': '健康診断', '項目': [ '身長', '体重', '視力', '血圧' ] })\n",
        "\n",
        "#@markdown ###健康診断データ\n",
        "身長 = '165 cm' #@param\n",
        "体重 = '60.0 kg' #@param\n",
        "視力 = '1.0/1.0' #@param\n",
        "血圧 = '120/70' #@param\n",
        "\n",
        "健康診断データ.診療結果の記入('身長', 身長)\n",
        "健康診断データ.診療結果の記入('体重', 体重)\n",
        "健康診断データ.診療結果の記入('視力', 視力)\n",
        "健康診断データ.診療結果の記入('血圧', 血圧)\n",
        "健康診断データ.所見の記入('異常なし')\n",
        "print(健康診断データ.データのまとめ())"
      ],
      "execution_count": 0,
      "outputs": []
    },
    {
      "cell_type": "code",
      "metadata": {
        "id": "Qf0BZJD9uii3",
        "colab_type": "code",
        "colab": {}
      },
      "source": [
        "新型コロナ検査 = 診療データ()\n",
        "新型コロナ検査.診療情報の記入({ '名称': '新型コロナ検査', '項目': [ '体温', 'せき', '味覚', 'PCR ' ] })\n",
        "\n",
        "#@markdown ###新型コロナ検査\n",
        "体温 = '36.5 ℃' #@param\n",
        "せき = 'なし' #@param\n",
        "味覚 = '正常' #@param\n",
        "PCR = '陰性' #@param\n",
        "\n",
        "新型コロナ検査.診療結果の記入('体温', 体温)\n",
        "新型コロナ検査.診療結果の記入('せき', せき)\n",
        "新型コロナ検査.診療結果の記入('味覚', 味覚)\n",
        "新型コロナ検査.診療結果の記入('PCR ', PCR)\n",
        "新型コロナ検査.所見の記入('非感染者')\n",
        "print(新型コロナ検査.データのまとめ())"
      ],
      "execution_count": 0,
      "outputs": []
    },
    {
      "cell_type": "markdown",
      "metadata": {
        "id": "4fe7PKvAFLdO",
        "colab_type": "text"
      },
      "source": [
        "どうでしょう？  \n",
        "なんとなく何をすると、何が起きるか分かってきたでしょうか？"
      ]
    },
    {
      "cell_type": "markdown",
      "metadata": {
        "id": "UmrQUCZkD6dv",
        "colab_type": "text"
      },
      "source": [
        "## 3. 総まとめ\n"
      ]
    },
    {
      "cell_type": "markdown",
      "metadata": {
        "id": "q88bvi2uEBOW",
        "colab_type": "text"
      },
      "source": [
        "さて、全部まとめて、実際にカルテに診療データを追加していくと下のようになります。\n",
        "▶ボタンを押してみてください。"
      ]
    },
    {
      "cell_type": "code",
      "metadata": {
        "id": "--ByM6p3TDYa",
        "colab_type": "code",
        "colab": {}
      },
      "source": [
        "# 日付を扱う別プログラムを読み込む\n",
        "import datetime\n",
        "\n",
        "###############　カルテ【オブジェクト】の作成　##################\n",
        "class 簡易カルテ:\n",
        "  # 初期状態の設定\n",
        "  def __init__(self):\n",
        "    # 変数の設定\n",
        "    self.患者ID = None\n",
        "    self.患者氏名 = None\n",
        "    self.患者生年月日 = None\n",
        "    self.診療データリスト = []\n",
        "\n",
        "  # 患者の情報を記入する関数\n",
        "  def 記入(self, ID, 名前, 生年月日):\n",
        "    self.患者ID = ID\n",
        "    self.患者氏名 = 名前\n",
        "    self.患者生年月日 = 生年月日\n",
        "  \n",
        "  # 変更点１\n",
        "  # 患者の年齢を計算\n",
        "  def 年齢(self):\n",
        "    生年 = int(生年月日.split('-')[0])\n",
        "    return 2020 - 生年\n",
        "\n",
        "  # 診療データを追加する関数\n",
        "  def データ追加(self, データ):\n",
        "    self.診療データリスト.append(データ)\n",
        "\n",
        "  # 指定のページを表示する関数\n",
        "  def 表示(self, ページ):\n",
        "    if (ページ == 1):\n",
        "      print('ID:　',self.患者ID)\n",
        "      print('氏名:　',self.患者氏名)\n",
        "      print('生年月日:　',self.患者生年月日, '(', self.年齢(), '歳)')\n",
        "    # 変更点２\n",
        "    elif (ページ-2 < len(self.診療データリスト)):\n",
        "      print(self.診療データリスト[ページ-2].データのまとめ())\n",
        "    else:\n",
        "      print('まだ', ページ, '頁目はありません')\n",
        "\n",
        "###############################################################\n",
        "\n",
        "###############　診療データ【オブジェクト】の作成　##################\n",
        "class 診療データ:\n",
        "  # 初期状態の設定\n",
        "  def __init__(self):\n",
        "    # 変数の設定\n",
        "    self.診療名 = ''\n",
        "    self.診療日 = datetime.date.today()\n",
        "    self.診療項目 = []\n",
        "    self.診療結果 = {}\n",
        "    self.医師の所見 = ''\n",
        "  \n",
        "  # 診療情報を記入する関数\n",
        "  def 診療情報の記入(self, 内容):\n",
        "    self.診療名 = 内容['名称']\n",
        "    self.診療項目 = 内容['項目']\n",
        "\n",
        "  # 診療結果を記入する関数\n",
        "  def 診療結果の記入(self, 項目, 結果):\n",
        "    self.診療結果[項目] = 結果\n",
        "\n",
        "  # 所見を記入する関数\n",
        "  def 所見の記入(self, 所見):\n",
        "    self.医師の所見 = 所見\n",
        "\n",
        "  # 要約する関数\n",
        "  def データのまとめ(self):\n",
        "    データ = '－－－－－－－－－－－－－－－－－－－－－\\n'\n",
        "    データ += '診療：'+self.診療名+'　　診療日：'+self.診療日.strftime('%Y年%m月%d日')+'\\n'\n",
        "    データ += '－－－－－－－－－－－－－－－－－－－－－\\n'\n",
        "    データ += '　診療項目　 結果\\n'\n",
        "    for 項目名 in self.診療項目:\n",
        "      データ += '　　'+項目名+'　　'+self.診療結果[項目名]+'\\n'\n",
        "    データ += '所見：'+self.医師の所見+'\\n'\n",
        "    return データ\n",
        "\n",
        "###################################################################\n",
        "\n",
        "# カルテを運用する\n",
        "\n",
        "# カルテの作成\n",
        "私のカルテ２ = 簡易カルテ() \n",
        "\n",
        "#@markdown ###私のカルテ\n",
        "学籍番号 =  12345#@param\n",
        "名前 = '女子医花子' #@param {type:\"string\"}\n",
        "生年月日 = '1900-01-01' #@param {type:\"date\"}\n",
        "私のカルテ２.記入(学籍番号, 名前, 生年月日)\n",
        "\n",
        "# データの追加１\n",
        "健康診断データ２ = 診療データ()\n",
        "健康診断データ２.診療情報の記入({ '名称': '健康診断', '項目': [ '身長', '体重', '視力', '血圧' ] })\n",
        "\n",
        "#@markdown ###健康診断データ\n",
        "身長 = '165 cm' #@param\n",
        "体重 = '60.0 kg' #@param\n",
        "視力 = '1.0/1.0' #@param\n",
        "血圧 = '120/70' #@param\n",
        "\n",
        "健康診断データ２.診療結果の記入('身長', 身長)\n",
        "健康診断データ２.診療結果の記入('体重', 体重)\n",
        "健康診断データ２.診療結果の記入('視力', 視力)\n",
        "健康診断データ２.診療結果の記入('血圧', 血圧)\n",
        "健康診断データ２.所見の記入('異常なし')\n",
        "\n",
        "私のカルテ２.データ追加(健康診断データ２)\n",
        "\n",
        "\n",
        "# データの追加２\n",
        "新型コロナ検査２ = 診療データ()\n",
        "新型コロナ検査２.診療情報の記入({ '名称': '新型コロナ検査', '項目': [ '体温', 'せき', '味覚', 'PCR ' ] })\n",
        "\n",
        "#@markdown ###新型コロナ検査\n",
        "体温 = '36.5 ℃' #@param\n",
        "せき = 'なし' #@param\n",
        "味覚 = '正常' #@param\n",
        "PCR = '陰性' #@param\n",
        "\n",
        "新型コロナ検査２.診療結果の記入('体温', 体温)\n",
        "新型コロナ検査２.診療結果の記入('せき', せき)\n",
        "新型コロナ検査２.診療結果の記入('味覚', 味覚)\n",
        "新型コロナ検査２.診療結果の記入('PCR ', PCR)\n",
        "新型コロナ検査２.所見の記入('非感染者')\n",
        "\n",
        "私のカルテ２.データ追加(新型コロナ検査２)\n",
        "\n",
        "私のカルテ２.表示(1)\n",
        "私のカルテ２.表示(2)\n",
        "私のカルテ２.表示(3)\n",
        "私のカルテ２.表示(4)\n"
      ],
      "execution_count": 0,
      "outputs": []
    },
    {
      "cell_type": "markdown",
      "metadata": {
        "id": "R-rqFCovGWUr",
        "colab_type": "text"
      },
      "source": [
        "# おつかれさまでした。\n"
      ]
    }
  ]
}