{
  "nbformat": 4,
  "nbformat_minor": 0,
  "metadata": {
    "colab": {
      "name": "TWMU_2020_s1_Lecture_02-report-01.ipynb",
      "provenance": [],
      "collapsed_sections": [],
      "include_colab_link": true
    },
    "kernelspec": {
      "name": "python3",
      "display_name": "Python 3"
    }
  },
  "cells": [
    {
      "cell_type": "markdown",
      "metadata": {
        "id": "view-in-github",
        "colab_type": "text"
      },
      "source": [
        "<a href=\"https://colab.research.google.com/github/YujiSue/Lecture/blob/master/11200109.ipynb\" target=\"_parent\"><img src=\"https://colab.research.google.com/assets/colab-badge.svg\" alt=\"Open In Colab\"/></a>"
      ]
    },
    {
      "cell_type": "markdown",
      "metadata": {
        "id": "Zuho_FuZ98VK",
        "colab_type": "text"
      },
      "source": [
        "# 課題１\n",
        "## AIによる画像識別  \n",
        "  以下のいずれかを実行してください  \n",
        "  \n",
        "*  PC/スマホに画像を保存してから使いたいとき\n",
        "  1.  左のフォルダアイコンをクリックして「アップロード」\n",
        "  をクリック/タップして、画像をアップロードします  \n",
        "  2.  下セルのコード10行目の「画像名 = 」の右に、引用符でくくった画像ファイル名を記入してください  \n",
        "  ![代替テキスト](https://user-images.githubusercontent.com/25998652/83730351-e7e9b080-a683-11ea-9d22-932263316543.png)\n",
        "  \n",
        "*  ネット上の画像を使いたいとき  \n",
        "  1.  画像ファイル名を決める  \n",
        "  下セルのコード10行目の「画像名 = 」の右に、引用符でくくった画像ファイル名を記入してください\n",
        "  2.  画像のURLを調べる  \n",
        "  使いたい画像をブラウザで開いて、ブラウザ上部のアドレスをコピーします  \n",
        "  3.  下のセルの15行目「画像のURL = 」の右側に、引用符でくくって画像のURLをペーストしてください\n",
        " \n",
        "  ※ 注意：画像のURLは必ず画像本体を示すアドレスでなくてはいけません  \n",
        "  例えばTwitterなどで画像を開くと、以下のようなアドレスのページが開きますが、これは画像本体を表すURLではありません  \n",
        "  https://twitter.com/SHARP_JP/status/717912259607994370/photo/1  \n",
        "  表示される画像の上で「右クリック(Macの場合はControlキー押しながらクリック)」をして、「画像だけを表示」してアドレスをコピーしてください  \n",
        "  例：https://pbs.twimg.com/media/CfaJZPjUMAAfXas?format=jpg&name=small"
      ]
    },
    {
      "cell_type": "code",
      "metadata": {
        "id": "I7NQfKeGYDiI",
        "colab_type": "code",
        "colab": {}
      },
      "source": [
        "from google.colab import drive\n",
        "drive.mount('/content/drive')"
      ],
      "execution_count": 0,
      "outputs": []
    },
    {
      "cell_type": "code",
      "metadata": {
        "id": "7y1lUuFO9HYG",
        "colab_type": "code",
        "colab": {
          "base_uri": "https://localhost:8080/",
          "height": 357
        },
        "outputId": "56a1e32d-bf7e-4ee8-fa5f-19f32d8f5e95"
      },
      "source": [
        "#必要なPythonプログラムを読み込み\n",
        "from keras.preprocessing import image\n",
        "from keras.applications.resnet50 import ResNet50\n",
        "from keras.applications.resnet50 import preprocess_input, decode_predictions\n",
        "import numpy as np\n",
        "import requests\n",
        "from IPython.display import Image, display_jpeg, display_png, display_pdf\n",
        " \n",
        "# 画像の名前を指定\n",
        "画像名 = '20140601_580143.jpg' # ←画像ファイル名を入れてください\n",
        " \n",
        "#########　ネット上の画像を使用する場合　######## \n",
        "#画像をダウンロード\n",
        "try:\n",
        "  画像のURL = 'https;//*' # ←画像のアドレス(URL)を入れてください\n",
        "  response = requests.get(画像のURL)\n",
        "  #画像ファイルを保存\n",
        "  画像ファイル = open(画像名, 'wb')\n",
        "  画像ファイル.write(response.content)\n",
        "except Exception as e:\n",
        "  print(e)\n",
        "################################################## \n",
        " \n",
        "# すでに研究者が学習させた人工知能を読み込みます\n",
        "テストAI = ResNet50(weights='imagenet')\n",
        " \n",
        "# さきほどダウンロードした画像をあらためて読み込みます\n",
        "画像 = image.load_img(画像名, target_size=(224, 224))\n",
        " \n",
        "# 画像データをAIが認識できる形に変換・前処理します\n",
        "変換画像 = image.img_to_array(画像)\n",
        "変換画像 = np.expand_dims(変換画像, axis=0)\n",
        "変換画像 = preprocess_input(変換画像)\n",
        "# AIに予測させて結果を取得します\n",
        "予測 = テストAI.predict(変換画像)\n",
        "結果 = decode_predictions(予測, top=3)[0]\n",
        " \n",
        "# 3.結果を表示\n",
        "display_jpeg(Image(画像名))\n",
        "# ※画像ファイルがPNG形式の場合は\n",
        "# display_png(Image('画像ファイル'))\n",
        " \n",
        "print('第１候補：', 結果[0][1], '(予想確率：', 結果[0][2]*100, '％）')\n",
        "print('第２候補：', 結果[1][1], '(予想確率：', 結果[1][2]*100, '％）')\n",
        "print('第３候補：', 結果[2][1], '(予想確率：', 結果[2][2]*100, '％）')"
      ],
      "execution_count": 6,
      "outputs": [
        {
          "output_type": "stream",
          "text": [
            "Invalid URL 'https;//*': No schema supplied. Perhaps you meant http://https;//*?\n",
            "Downloading data from https://storage.googleapis.com/download.tensorflow.org/data/imagenet_class_index.json\n",
            "40960/35363 [==================================] - 0s 0us/step\n"
          ],
          "name": "stdout"
        },
        {
          "output_type": "display_data",
          "data": {
            "image/jpeg": "[encoded data removed]"
          },
          "metadata": {
            "tags": []
          }
        },
        {
          "output_type": "stream",
          "text": [
            "第１候補： comic_book (予想確率： 11.480668932199478 ％）\n",
            "第２候補： pencil_box (予想確率： 7.941089570522308 ％）\n",
            "第３候補： web_site (予想確率： 6.828504800796509 ％）\n"
          ],
          "name": "stdout"
        }
      ]
    },
    {
      "cell_type": "markdown",
      "metadata": {
        "id": "lzWoRtL7--kf",
        "colab_type": "text"
      },
      "source": [
        ""
      ]
    }
  ]
}